{
 "cells": [
  {
   "cell_type": "code",
   "execution_count": 30,
   "metadata": {},
   "outputs": [],
   "source": [
    "import json\n",
    "\n",
    "data_path = 'data\\\\minecraft-data-3.63.0\\\\data\\pc\\\\1.20\\\\'\n",
    "files = ['biomes', 'blockCollisionShapes', 'blockLoot', 'blocks', 'effects', 'enchantments', 'entities', 'entityLoot', 'foods', 'instruments', 'items', 'language', 'loginPacket', 'materials', 'particles', 'protocol', 'recipes', 'tints', 'version']\n",
    "minecraft_data = {}\n",
    "md_foods = {}\n",
    " \n",
    "# load the data\n",
    "for file in files:\n",
    "    with open(data_path + file + '.json') as f:\n",
    "        minecraft_data[file] = json.load(f)\n",
    "\n",
    "md_foods = {food_data['id']: food_data for food_data in minecraft_data['foods']}\n",
    "\n",
    "artic_path = 'data\\\\ArticData\\\\'"
   ]
  },
  {
   "cell_type": "code",
   "execution_count": 31,
   "metadata": {},
   "outputs": [],
   "source": [
    "# load datasets\n",
    "\n",
    "# items\n",
    "artic_items = {}\n",
    "with open(artic_path + '1_20_items.json') as f:\n",
    "    artic_items = json.load(f)\n",
    "md_items = {item_data['id']: item_data for item_data in minecraft_data['items']}\n",
    "\n",
    "# blocks\n",
    "md_blocks = {block_data['id']: block_data for block_data in minecraft_data['blocks']}\n",
    "artic_blocks = {}\n",
    "with open(artic_path + '1_20_blocks.json') as f:\n",
    "    artic_blocks = json.load(f)\n",
    "\n",
    "# block loot\n",
    "md_block_loot = {block_data['block']: block_data['drops'] for block_data in minecraft_data['blockLoot']}\n",
    "\n",
    "# effects\n",
    "artic_effects = {}\n",
    "with open(artic_path + '1_20_potion_effects.json') as f:\n",
    "    artic_effects = json.load(f)\n",
    "md_effects = {effect_data['id']: effect_data for effect_data in minecraft_data['effects']}\n",
    "\n",
    "# enchantments\n",
    "artic_enchantments = {}\n",
    "with open(artic_path + '1_20_enchantments.json') as f:\n",
    "    artic_enchantments = json.load(f)\n",
    "md_enchantments = {enchantment_data['id']: enchantment_data for enchantment_data in minecraft_data['enchantments']}"
   ]
  },
  {
   "cell_type": "markdown",
   "metadata": {},
   "source": [
    "### Items"
   ]
  },
  {
   "cell_type": "code",
   "execution_count": 32,
   "metadata": {},
   "outputs": [],
   "source": [
    "items = {}\n",
    "\n",
    "for minecraft_id, artic in artic_items.items():\n",
    "    item_id = artic['id']\n",
    "    md = md_items[item_id]\n",
    "    item = {}\n",
    "\n",
    "    item['id'] = item_id\n",
    "    item['minecraft_id'] = minecraft_id\n",
    "    item['name'] = md['name']\n",
    "    item['display_name'] = md['displayName']\n",
    "    item['stack_size'] = md['stackSize']\n",
    "    item['rarity'] = artic['rarity']\n",
    "    item['fire_resistant'] = artic['fireResistant']\n",
    "    \n",
    "    if 'foodProperties' in artic:\n",
    "        foodProperties = artic['foodProperties']\n",
    "        effects = [{'id': artic_effects[effect['id']]['id'], # replace minecraft_id with effect_id\n",
    "                    'duration': effect['duration'], \n",
    "                    'amplifier': effect['amplifier'], \n",
    "                    'chance': effect['chance']} for effect in foodProperties['effects']]\n",
    "        \n",
    "        # add food properties\n",
    "        item['foodProperties'] = {\n",
    "            'nutrition': foodProperties['nutrition'],\n",
    "            'saturation_modifier': foodProperties['saturationModifier'],\n",
    "            'effects': effects,\n",
    "        }\n",
    "\n",
    "    items[item_id] = item"
   ]
  },
  {
   "cell_type": "markdown",
   "metadata": {},
   "source": [
    "### Blocks"
   ]
  },
  {
   "cell_type": "code",
   "execution_count": 33,
   "metadata": {},
   "outputs": [],
   "source": [
    "# create a mapping of items by name\n",
    "items_by_name = {item['name']: item for item in items.values()}\n",
    "\n",
    "blocks = {}\n",
    "\n",
    "# prepare block drops\n",
    "def get_block_drops(drops):\n",
    "    block_drops = []\n",
    "    for drop in drops:\n",
    "        silk_touch = 'optional'\n",
    "        if 'silkTouch' in drop:\n",
    "            silk_touch = 'required'\n",
    "        elif 'noSilkTouch' in drop:\n",
    "            silk_touch = 'forbidden'\n",
    "        block_drops.append({\n",
    "            'item': items_by_name[drop['item']]['id'], # use name mapping to get item id\n",
    "            'min': drop['stackSizeRange'][0],\n",
    "            'max': drop['stackSizeRange'][1],\n",
    "            'chance': drop['dropChance'],\n",
    "            'silk_touch': silk_touch\n",
    "        })\n",
    "    return block_drops\n",
    "\n",
    "for minecraft_id, artic in artic_blocks.items():\n",
    "    block_id = artic['id']\n",
    "    md = md_blocks[block_id]\n",
    "    block_name = md['name']\n",
    "\n",
    "    block = {}\n",
    "    block['block_id'] = block_id\n",
    "    block['minecraft_id'] = minecraft_id\n",
    "\n",
    "    # link to corresponding item\n",
    "    if 'correspondingItem' in artic:\n",
    "        corresponding_item_id = artic_items[artic['correspondingItem']]['id']\n",
    "        block['corresponding_item'] = corresponding_item_id\n",
    "        items[corresponding_item_id]['block_id'] = block_id\n",
    "\n",
    "    block['display_name'] = md['displayName']\n",
    "    block['hardness'] = md['hardness']\n",
    "    block['explosion_resistance'] = artic['explosionResistance']\n",
    "    block['diggable'] = md['diggable']\n",
    "    block['gravity'] = artic['gravity']\n",
    "    block['transparent'] = md['transparent']\n",
    "    block['emit_light'] = md['emitLight']\n",
    "    block['filter_light'] = md['filterLight']\n",
    "    block['drops'] = []\n",
    "\n",
    "    # some blocks have a base variant (wallSign -> sign, etc.)\n",
    "    # drops are mapped to the base block only\n",
    "    base_block_name = items[corresponding_item_id]['name'] # find base block\n",
    "    if base_block_name in md_block_loot:\n",
    "        md_drops = md_block_loot[base_block_name]\n",
    "        block['drops'] = get_block_drops(md_drops)         # add base block drops\n",
    "\n",
    "    # TODO does this mapping work for every blockLoot?\n",
    "\n",
    "    blocks[block_id] = block"
   ]
  },
  {
   "cell_type": "markdown",
   "metadata": {},
   "source": [
    "### Effects"
   ]
  },
  {
   "cell_type": "code",
   "execution_count": 34,
   "metadata": {},
   "outputs": [],
   "source": [
    "effects = {}\n",
    "\n",
    "for minecraft_id, artic in artic_effects.items():\n",
    "    effect_id = artic['id']\n",
    "    md = md_effects[effect_id]\n",
    "\n",
    "    effect = {}\n",
    "    effect['minecraft_id'] = minecraft_id\n",
    "    effect['display_name'] = md['displayName']\n",
    "    effect['type'] = md['type']\n",
    "    effect['instantaneous'] = artic['instantaneous']\n",
    "\n",
    "    effects[effect_id] = effect"
   ]
  },
  {
   "cell_type": "markdown",
   "metadata": {},
   "source": [
    "### Enchantments"
   ]
  },
  {
   "cell_type": "code",
   "execution_count": 35,
   "metadata": {},
   "outputs": [],
   "source": [
    "enchantments = {}\n",
    "\n",
    "for minecraft_id, artic in artic_enchantments.items():\n",
    "    enchantment_id = artic['id']\n",
    "    md = md_enchantments[enchantment_id]\n",
    "\n",
    "    enchantment = {}\n",
    "    enchantment['minecraft_id'] = minecraft_id\n",
    "    enchantment['display_name'] = md['displayName']\n",
    "    enchantment['min_level'] = artic['minLevel']\n",
    "    enchantment['max_level'] = artic['maxLevel']\n",
    "    enchantment['rarity'] = artic['rarity']\n",
    "    enchantment['category'] = artic['category']\n",
    "    enchantment['weight'] = md['weight']\n",
    "    enchantment['curse'] = artic['curse']\n",
    "    enchantment['discoverable'] = artic['discoverable']\n",
    "    enchantment['tradeable'] = artic['tradeable']\n",
    "    enchantment['treasure_only'] = artic['treasureOnly']\n",
    "    enchantment['exclude'] = [artic_enchantments[exclude]['id'] for exclude in artic['incompatibleEnchantments']]\n",
    "\n",
    "    enchantments[enchantment_id] = enchantment"
   ]
  },
  {
   "cell_type": "markdown",
   "metadata": {},
   "source": [
    "### Write to JSON"
   ]
  },
  {
   "cell_type": "code",
   "execution_count": 36,
   "metadata": {},
   "outputs": [],
   "source": [
    "with open('test/blocks.json', 'w') as f:\n",
    "    json.dump(blocks, f, indent=4)\n",
    "\n",
    "with open('test/items.json', 'w') as f:\n",
    "    json.dump(items, f, indent=4)\n",
    "\n",
    "with open('test/effects.json', 'w') as f:\n",
    "    json.dump(effects, f, indent=4)\n",
    "\n",
    "with open('test/enchantments.json', 'w') as f:\n",
    "    json.dump(enchantments, f, indent=4)"
   ]
  }
 ],
 "metadata": {
  "kernelspec": {
   "display_name": "base",
   "language": "python",
   "name": "python3"
  },
  "language_info": {
   "codemirror_mode": {
    "name": "ipython",
    "version": 3
   },
   "file_extension": ".py",
   "mimetype": "text/x-python",
   "name": "python",
   "nbconvert_exporter": "python",
   "pygments_lexer": "ipython3",
   "version": "3.11.5"
  }
 },
 "nbformat": 4,
 "nbformat_minor": 2
}

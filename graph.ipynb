{
 "cells": [
  {
   "cell_type": "markdown",
   "metadata": {},
   "source": [
    "# Minecraft Data Knowledge Graph"
   ]
  },
  {
   "cell_type": "code",
   "execution_count": 92,
   "metadata": {},
   "outputs": [],
   "source": [
    "data_path = 'data\\\\minecraft-data-3.63.0\\\\data\\pc\\\\1.20\\\\'\n",
    "files = ['biomes', 'blockCollisionShapes', 'blockLoot', 'blocks', 'effects', 'enchantments', 'entities', 'entityLoot', 'foods', 'instruments', 'items', 'language', 'loginPacket', 'materials', 'particles', 'protocol', 'recipes', 'tints', 'version']"
   ]
  },
  {
   "cell_type": "markdown",
   "metadata": {},
   "source": [
    "Create Ontology"
   ]
  },
  {
   "cell_type": "code",
   "execution_count": 93,
   "metadata": {},
   "outputs": [],
   "source": [
    "import json\n",
    "from rdflib import Graph, Literal, BNode, Namespace, RDF, URIRef\n",
    "from rdflib.namespace import OWL, RDFS, XSD\n",
    "from rdflib.namespace import Namespace, NamespaceManager\n",
    "\n",
    "# create a graph\n",
    "g = Graph()\n",
    "\n",
    "# create namespaces\n",
    "# Minecraft\n",
    "mc = Namespace(\"http://example.org/minecraft/\")\n",
    "mc_block = Namespace(\"http://example.org/minecraft/block/\")\n",
    "mc_block_drop = Namespace(\"http://example.org/minecraft/block_drop/\")\n",
    "mc_item = Namespace(\"http://example.org/minecraft/item/\")\n",
    "mc_entity = Namespace(\"http://example.org/minecraft/entity/\")\n",
    "mc_biome = Namespace(\"http://example.org/minecraft/biome/\")\n",
    "mc_particle = Namespace(\"http://example.org/minecraft/particle/\")\n",
    "\n",
    "# create a namespace manager\n",
    "nm = NamespaceManager(g)\n",
    "nm.bind('mc', mc)\n",
    "nm.bind('mc_block', mc_block)\n",
    "nm.bind('mc_block_drop', mc_block_drop)\n",
    "nm.bind('mc_item', mc_item)\n",
    "nm.bind('mc_entity', mc_entity)\n",
    "nm.bind('mc_biome', mc_biome)\n",
    "nm.bind('mc_particle', mc_particle)\n",
    "\n",
    "# add namespaces to the graph\n",
    "g.namespace_manager = nm\n",
    "\n",
    "# create a dictionary to store the data\n",
    "data = {}\n",
    "\n",
    "# load the data\n",
    "for file in files:\n",
    "    with open(data_path + file + '.json') as f:\n",
    "        data[file] = json.load(f)"
   ]
  },
  {
   "cell_type": "code",
   "execution_count": 94,
   "metadata": {},
   "outputs": [
    {
     "data": {
      "text/plain": [
       "<Graph identifier=Ne3b0ad6a3b9d4f2a993c23056408c33f (<class 'rdflib.graph.Graph'>)>"
      ]
     },
     "execution_count": 94,
     "metadata": {},
     "output_type": "execute_result"
    }
   ],
   "source": [
    "# create ontology\n",
    "\n",
    "# create classes\n",
    "g.add((mc.Biome, RDF.type, OWL.Class))\n",
    "g.add((mc.Block, RDF.type, OWL.Class))\n",
    "g.add((mc.Effect, RDF.type, OWL.Class))\n",
    "g.add((mc.Enchantment, RDF.type, OWL.Class))\n",
    "g.add((mc.Entity, RDF.type, OWL.Class))\n",
    "g.add((mc.Food, RDF.type, OWL.Class))\n",
    "g.add((mc.Item, RDF.type, OWL.Class))\n",
    "g.add((mc.Material, RDF.type, OWL.Class))\n",
    "g.add((mc.Particle, RDF.type, OWL.Class))\n",
    "g.add((mc.Recipe, RDF.type, OWL.Class))\n",
    "g.add((mc.Tint, RDF.type, OWL.Class))\n",
    "g.add((mc.BlockLoot, RDF.type, OWL.Class))\n",
    "g.add((mc.EntityLoot, RDF.type, OWL.Class))\n",
    "g.add((mc.Version, RDF.type, OWL.Class))"
   ]
  },
  {
   "cell_type": "markdown",
   "metadata": {},
   "source": [
    "## Create properties"
   ]
  },
  {
   "cell_type": "markdown",
   "metadata": {},
   "source": [
    "### Global"
   ]
  },
  {
   "cell_type": "code",
   "execution_count": 95,
   "metadata": {},
   "outputs": [
    {
     "data": {
      "text/plain": [
       "<Graph identifier=Ne3b0ad6a3b9d4f2a993c23056408c33f (<class 'rdflib.graph.Graph'>)>"
      ]
     },
     "execution_count": 95,
     "metadata": {},
     "output_type": "execute_result"
    }
   ],
   "source": [
    "# Information valid in version\n",
    "g.add((mc.inVersion, RDF.type, OWL.ObjectProperty))\n",
    "g.add((mc.inVersion, RDFS.domain, RDFS.Resource))\n",
    "g.add((mc.inVersion, RDFS.range, mc.Version))"
   ]
  },
  {
   "cell_type": "markdown",
   "metadata": {},
   "source": [
    "### Versions"
   ]
  },
  {
   "cell_type": "code",
   "execution_count": 96,
   "metadata": {},
   "outputs": [],
   "source": [
    "# "
   ]
  },
  {
   "cell_type": "markdown",
   "metadata": {},
   "source": [
    "### Blocks"
   ]
  },
  {
   "cell_type": "code",
   "execution_count": 97,
   "metadata": {},
   "outputs": [
    {
     "data": {
      "text/plain": [
       "<Graph identifier=Ne3b0ad6a3b9d4f2a993c23056408c33f (<class 'rdflib.graph.Graph'>)>"
      ]
     },
     "execution_count": 97,
     "metadata": {},
     "output_type": "execute_result"
    }
   ],
   "source": [
    "# Block Id\n",
    "g.add((mc_block.hasId, RDF.type, OWL.DatatypeProperty))\n",
    "g.add((mc_block.hasId, RDFS.domain, mc.Block))\n",
    "g.add((mc_block.hasId, RDFS.range, XSD.integer))\n",
    "\n",
    "# Item Name\n",
    "g.add((mc_block.hasName, RDF.type, OWL.DatatypeProperty))\n",
    "g.add((mc_block.hasName, RDFS.domain, mc.Block))\n",
    "g.add((mc_block.hasName, RDFS.range, XSD.string))\n",
    "\n",
    "# Display Name\n",
    "g.add((mc_block.hasDisplayName, RDF.type, OWL.DatatypeProperty))\n",
    "g.add((mc_block.hasDisplayName, RDFS.domain, mc.Block))\n",
    "g.add((mc_block.hasDisplayName, RDFS.range, XSD.string))\n",
    "\n",
    "# Hardness\n",
    "g.add((mc_block.hasHardness, RDF.type, OWL.DatatypeProperty))\n",
    "g.add((mc_block.hasHardness, RDFS.domain, mc.Block))\n",
    "g.add((mc_block.hasHardness, RDFS.range, XSD.float))\n",
    "\n",
    "# Resistance\n",
    "g.add((mc_block.hasResistance, RDF.type, OWL.DatatypeProperty))\n",
    "g.add((mc_block.hasResistance, RDFS.domain, mc.Block))\n",
    "g.add((mc_block.hasResistance, RDFS.range, XSD.float))\n",
    "\n",
    "# Diggable\n",
    "g.add((mc_block.isDiggable, RDF.type, OWL.DatatypeProperty))\n",
    "g.add((mc_block.isDiggable, RDFS.domain, mc.Block))\n",
    "g.add((mc_block.isDiggable, RDFS.range, XSD.boolean))\n",
    "\n",
    "# Material\n",
    "g.add((mc_block.hasMaterial, RDF.type, OWL.DatatypeProperty))\n",
    "g.add((mc_block.hasMaterial, RDFS.domain, mc.Block))\n",
    "g.add((mc_block.hasMaterial, RDFS.range, XSD.string))\n",
    "\n",
    "# Transparent\n",
    "g.add((mc_block.isTransparent, RDF.type, OWL.DatatypeProperty))\n",
    "g.add((mc_block.isTransparent, RDFS.domain, mc.Block))\n",
    "g.add((mc_block.isTransparent, RDFS.range, XSD.boolean))\n",
    "\n",
    "# Emit Light\n",
    "g.add((mc_block.emitLight, RDF.type, OWL.DatatypeProperty))\n",
    "g.add((mc_block.emitLight, RDFS.domain, mc.Block))\n",
    "g.add((mc_block.emitLight, RDFS.range, XSD.integer))\n",
    "\n",
    "# Filter Light\n",
    "g.add((mc_block.filterLight, RDF.type, OWL.DatatypeProperty))\n",
    "g.add((mc_block.filterLight, RDFS.domain, mc.Block))\n",
    "g.add((mc_block.filterLight, RDFS.range, XSD.integer))\n",
    "\n",
    "# Default State\n",
    "g.add((mc_block.hasDefaultState, RDF.type, OWL.DatatypeProperty))\n",
    "g.add((mc_block.hasDefaultState, RDFS.domain, mc.Block))\n",
    "g.add((mc_block.hasDefaultState, RDFS.range, XSD.integer))\n",
    "\n",
    "# Min State Id\n",
    "g.add((mc_block.hasMinStateId, RDF.type, OWL.DatatypeProperty))\n",
    "g.add((mc_block.hasMinStateId, RDFS.domain, mc.Block))\n",
    "g.add((mc_block.hasMinStateId, RDFS.range, XSD.integer))\n",
    "\n",
    "# Max State Id\n",
    "g.add((mc_block.hasMaxStateId, RDF.type, OWL.DatatypeProperty))\n",
    "g.add((mc_block.hasMaxStateId, RDFS.domain, mc.Block))\n",
    "g.add((mc_block.hasMaxStateId, RDFS.range, XSD.integer))\n",
    "\n",
    "# States\n",
    "g.add((mc_block.hasStates, RDF.type, OWL.DatatypeProperty))\n",
    "g.add((mc_block.hasStates, RDFS.domain, mc.Block))\n",
    "g.add((mc_block.hasStates, RDFS.range, RDF.List))\n",
    "\n",
    "# Drop\n",
    "g.add((mc_block.hasDrop, RDF.type, OWL.DatatypeProperty))\n",
    "g.add((mc_block.hasDrop, RDFS.domain, mc.Block))\n",
    "g.add((mc_block.hasDrop, RDFS.range, mc.BlockLoot))\n",
    "\n",
    "# Bounding Box\n",
    "g.add((mc_block.hasBoundingBox, RDF.type, OWL.DatatypeProperty))\n",
    "g.add((mc_block.hasBoundingBox, RDFS.domain, mc.Block))\n",
    "g.add((mc_block.hasBoundingBox, RDFS.range, XSD.string))"
   ]
  },
  {
   "cell_type": "markdown",
   "metadata": {},
   "source": [
    "### Block Loot"
   ]
  },
  {
   "cell_type": "code",
   "execution_count": 98,
   "metadata": {},
   "outputs": [
    {
     "data": {
      "text/plain": [
       "<Graph identifier=Ne3b0ad6a3b9d4f2a993c23056408c33f (<class 'rdflib.graph.Graph'>)>"
      ]
     },
     "execution_count": 98,
     "metadata": {},
     "output_type": "execute_result"
    }
   ],
   "source": [
    "# Item\n",
    "g.add((mc_block_drop.hasItem, RDF.type, OWL.DatatypeProperty))\n",
    "g.add((mc_block_drop.hasItem, RDFS.domain, mc.BlockLoot))\n",
    "g.add((mc_block_drop.hasItem, RDFS.range, mc.Item))\n",
    "\n",
    "# Drop Chance\n",
    "g.add((mc_block_drop.hasDropChance, RDF.type, OWL.DatatypeProperty))\n",
    "g.add((mc_block_drop.hasDropChance, RDFS.domain, mc.BlockLoot))\n",
    "g.add((mc_block_drop.hasDropChance, RDFS.range, XSD.float))\n",
    "\n",
    "# Min Count\n",
    "g.add((mc_block_drop.hasMinCount, RDF.type, OWL.DatatypeProperty))\n",
    "g.add((mc_block_drop.hasMinCount, RDFS.domain, mc.BlockLoot))\n",
    "g.add((mc_block_drop.hasMinCount, RDFS.range, XSD.integer))\n",
    "\n",
    "# Max Count\n",
    "g.add((mc_block_drop.hasMaxCount, RDF.type, OWL.DatatypeProperty))\n",
    "g.add((mc_block_drop.hasMaxCount, RDFS.domain, mc.BlockLoot))\n",
    "g.add((mc_block_drop.hasMaxCount, RDFS.range, XSD.integer))\n",
    " \n",
    "# Silk Touch Effect (required / forbidden / optional)\n",
    "g.add((mc_block_drop.hasSilkTouchRule, RDF.type, OWL.DatatypeProperty))\n",
    "g.add((mc_block_drop.hasSilkTouchRule, RDFS.domain, mc.BlockLoot))\n",
    "g.add((mc_block_drop.hasSilkTouchRule, RDFS.range, XSD.string))"
   ]
  },
  {
   "cell_type": "markdown",
   "metadata": {},
   "source": [
    "### Items"
   ]
  },
  {
   "cell_type": "code",
   "execution_count": 99,
   "metadata": {},
   "outputs": [
    {
     "data": {
      "text/plain": [
       "<Graph identifier=Ne3b0ad6a3b9d4f2a993c23056408c33f (<class 'rdflib.graph.Graph'>)>"
      ]
     },
     "execution_count": 99,
     "metadata": {},
     "output_type": "execute_result"
    }
   ],
   "source": [
    "# Item Id\n",
    "g.add((mc_item.hasId, RDF.type, OWL.DatatypeProperty))\n",
    "g.add((mc_item.hasId, RDFS.domain, mc.Item))\n",
    "g.add((mc_item.hasId, RDFS.range, XSD.integer))\n",
    "\n",
    "# Item Name\n",
    "g.add((mc_item.hasName, RDF.type, OWL.DatatypeProperty))\n",
    "g.add((mc_item.hasName, RDFS.domain, mc.Item))\n",
    "g.add((mc_item.hasName, RDFS.range, XSD.string))\n",
    "\n",
    "# Display Name\n",
    "g.add((mc_item.hasDisplayName, RDF.type, OWL.DatatypeProperty))\n",
    "g.add((mc_item.hasDisplayName, RDFS.domain, mc.Item))\n",
    "g.add((mc_item.hasDisplayName, RDFS.range, XSD.string))\n",
    "\n",
    "# Stack Size\n",
    "g.add((mc_item.hasStackSize, RDF.type, OWL.DatatypeProperty))\n",
    "g.add((mc_item.hasStackSize, RDFS.domain, mc.Item))\n",
    "g.add((mc_item.hasStackSize, RDFS.range, XSD.integer))\n"
   ]
  },
  {
   "cell_type": "markdown",
   "metadata": {},
   "source": [
    "### Entities\n"
   ]
  },
  {
   "cell_type": "code",
   "execution_count": 100,
   "metadata": {},
   "outputs": [
    {
     "data": {
      "text/plain": [
       "<Graph identifier=Ne3b0ad6a3b9d4f2a993c23056408c33f (<class 'rdflib.graph.Graph'>)>"
      ]
     },
     "execution_count": 100,
     "metadata": {},
     "output_type": "execute_result"
    }
   ],
   "source": [
    "# Entity Id\n",
    "g.add((mc_entity.hasId, RDF.type, OWL.DatatypeProperty))\n",
    "g.add((mc_entity.hasId, RDFS.domain, mc.Entity))\n",
    "g.add((mc_entity.hasId, RDFS.range, XSD.integer))\n",
    "\n",
    "# Internal Id\n",
    "g.add((mc_entity.hasInternalId, RDF.type, OWL.DatatypeProperty))\n",
    "g.add((mc_entity.hasInternalId, RDFS.domain, mc.Entity))\n",
    "g.add((mc_entity.hasInternalId, RDFS.range, XSD.integer))\n",
    "\n",
    "# Name\n",
    "g.add((mc_entity.hasName, RDF.type, OWL.DatatypeProperty))\n",
    "g.add((mc_entity.hasName, RDFS.domain, mc.Entity))\n",
    "g.add((mc_entity.hasName, RDFS.range, XSD.string))\n",
    "\n",
    "# Display Name\n",
    "g.add((mc_entity.hasDisplayName, RDF.type, OWL.DatatypeProperty))\n",
    "g.add((mc_entity.hasDisplayName, RDFS.domain, mc.Entity))\n",
    "g.add((mc_entity.hasDisplayName, RDFS.range, XSD.string))\n",
    "\n",
    "# Width\n",
    "g.add((mc_entity.hasWidth, RDF.type, OWL.DatatypeProperty))\n",
    "g.add((mc_entity.hasWidth, RDFS.domain, mc.Entity))\n",
    "g.add((mc_entity.hasWidth, RDFS.range, XSD.float))\n",
    "\n",
    "# Height\n",
    "g.add((mc_entity.hasHeight, RDF.type, OWL.DatatypeProperty))\n",
    "g.add((mc_entity.hasHeight, RDFS.domain, mc.Entity))\n",
    "g.add((mc_entity.hasHeight, RDFS.range, XSD.float))\n",
    "\n",
    "# Type\n",
    "g.add((mc_entity.hasType, RDF.type, OWL.DatatypeProperty))\n",
    "g.add((mc_entity.hasType, RDFS.domain, mc.Entity))\n",
    "g.add((mc_entity.hasType, RDFS.range, XSD.string))\n",
    "\n",
    "# Category\n",
    "g.add((mc_entity.hasCategory, RDF.type, OWL.DatatypeProperty))\n",
    "g.add((mc_entity.hasCategory, RDFS.domain, mc.Entity))\n",
    "g.add((mc_entity.hasCategory, RDFS.range, XSD.string))\n",
    "\n",
    "# Metadata Keys\n",
    "g.add((mc_entity.hasMetadataKeys, RDF.type, OWL.DatatypeProperty))\n",
    "g.add((mc_entity.hasMetadataKeys, RDFS.domain, mc.Entity))\n",
    "g.add((mc_entity.hasMetadataKeys, RDFS.range, RDF.List))"
   ]
  },
  {
   "cell_type": "markdown",
   "metadata": {},
   "source": [
    "### Biomes"
   ]
  },
  {
   "cell_type": "code",
   "execution_count": 101,
   "metadata": {},
   "outputs": [
    {
     "data": {
      "text/plain": [
       "<Graph identifier=Ne3b0ad6a3b9d4f2a993c23056408c33f (<class 'rdflib.graph.Graph'>)>"
      ]
     },
     "execution_count": 101,
     "metadata": {},
     "output_type": "execute_result"
    }
   ],
   "source": [
    "g.add((mc_biome.hasId, RDF.type, OWL.DatatypeProperty))\n",
    "g.add((mc_biome.hasId, RDFS.domain, mc.Biome))\n",
    "g.add((mc_biome.hasId, RDFS.range, XSD.integer))\n",
    "\n",
    "g.add((mc_biome.hasName, RDF.type, OWL.DatatypeProperty))\n",
    "g.add((mc_biome.hasName, RDFS.domain, mc.Biome))\n",
    "g.add((mc_biome.hasName, RDFS.range, XSD.string))\n",
    "\n",
    "g.add((mc_biome.hasCategory, RDF.type, OWL.DatatypeProperty))\n",
    "g.add((mc_biome.hasCategory, RDFS.domain, mc.Biome))\n",
    "g.add((mc_biome.hasCategory, RDFS.range, XSD.string))\n",
    "\n",
    "g.add((mc_biome.hasTemperature, RDF.type, OWL.DatatypeProperty))\n",
    "g.add((mc_biome.hasTemperature, RDFS.domain, mc.Biome))\n",
    "g.add((mc_biome.hasTemperature, RDFS.range, XSD.float))\n",
    "\n",
    "g.add((mc_biome.hasPrecipitation, RDF.type, OWL.DatatypeProperty))\n",
    "g.add((mc_biome.hasPrecipitation, RDFS.domain, mc.Biome))\n",
    "g.add((mc_biome.hasPrecipitation, RDFS.range, XSD.boolean))\n",
    "\n",
    "g.add((mc_biome.hasDimension, RDF.type, OWL.DatatypeProperty))\n",
    "g.add((mc_biome.hasDimension, RDFS.domain, mc.Biome))\n",
    "g.add((mc_biome.hasDimension, RDFS.range, XSD.string))\n",
    "\n",
    "g.add((mc_biome.hasDisplayName, RDF.type, OWL.DatatypeProperty))\n",
    "g.add((mc_biome.hasDisplayName, RDFS.domain, mc.Biome))\n",
    "g.add((mc_biome.hasDisplayName, RDFS.range, XSD.string))\n",
    "\n",
    "g.add((mc_biome.hasColor, RDF.type, OWL.DatatypeProperty))\n",
    "g.add((mc_biome.hasColor, RDFS.domain, mc.Biome))\n",
    "g.add((mc_biome.hasColor, RDFS.range, XSD.integer))"
   ]
  },
  {
   "cell_type": "markdown",
   "metadata": {},
   "source": [
    "### Particles"
   ]
  },
  {
   "cell_type": "code",
   "execution_count": 102,
   "metadata": {},
   "outputs": [
    {
     "data": {
      "text/plain": [
       "<Graph identifier=Ne3b0ad6a3b9d4f2a993c23056408c33f (<class 'rdflib.graph.Graph'>)>"
      ]
     },
     "execution_count": 102,
     "metadata": {},
     "output_type": "execute_result"
    }
   ],
   "source": [
    "# Particle Id\n",
    "g.add((mc_particle.hasId, RDF.type, OWL.DatatypeProperty))\n",
    "g.add((mc_particle.hasId, RDFS.domain, mc.Particle))\n",
    "g.add((mc_particle.hasId, RDFS.range, XSD.integer))\n",
    "\n",
    "# Name\n",
    "g.add((mc_particle.hasName, RDF.type, OWL.DatatypeProperty))\n",
    "g.add((mc_particle.hasName, RDFS.domain, mc.Particle))\n",
    "g.add((mc_particle.hasName, RDFS.range, XSD.string))"
   ]
  },
  {
   "cell_type": "markdown",
   "metadata": {},
   "source": [
    "## Create Individuals"
   ]
  },
  {
   "cell_type": "code",
   "execution_count": 103,
   "metadata": {},
   "outputs": [],
   "source": [
    "# create individuals\n",
    "          \n",
    "# Adding items\n",
    "for item in data['items']:\n",
    "    item_uri = mc_item[item['name']]\n",
    "    g.add((item_uri, RDF.type, mc.Item))\n",
    "    g.add((item_uri, mc_item.hasId, Literal(item['id'])))\n",
    "    g.add((item_uri, mc_item.hasName, Literal(item['name'])))\n",
    "    g.add((item_uri, mc_item.hasDisplayName, Literal(item['displayName'])))\n",
    "    g.add((item_uri, mc_item.hasStackSize, Literal(item['stackSize'])))\n",
    "\n",
    "# Adding blocks\n",
    "for block in data['blocks']:\n",
    "    block_uri = mc_block[block['name']]\n",
    "    g.add((block_uri, RDF.type, mc.Block))\n",
    "    g.add((block_uri, mc_block.hasId, Literal(block['id'])))\n",
    "    g.add((block_uri, mc_block.hasName, Literal(block['name'])))\n",
    "    g.add((block_uri, mc_block.hasDisplayName, Literal(block['displayName'])))\n",
    "    g.add((block_uri, mc_block.hasHardness, Literal(block['hardness'])))\n",
    "    g.add((block_uri, mc_block.hasResistance, Literal(block['resistance'])))\n",
    "    g.add((block_uri, mc_block.isDiggable, Literal(block['diggable'])))\n",
    "    g.add((block_uri, mc_block.hasMaterial, Literal(block['material'])))\n",
    "    g.add((block_uri, mc_block.isTransparent, Literal(block['transparent'])))\n",
    "    g.add((block_uri, mc_block.emitLight, Literal(block['emitLight'])))\n",
    "    g.add((block_uri, mc_block.filterLight, Literal(block['filterLight'])))\n",
    "    g.add((block_uri, mc_block.hasDefaultState, Literal(block['defaultState'])))\n",
    "    g.add((block_uri, mc_block.hasMinStateId, Literal(block['minStateId'])))\n",
    "    g.add((block_uri, mc_block.hasMaxStateId, Literal(block['maxStateId'])))\n",
    "    g.add((block_uri, mc_block.hasStates, Literal(block['states'])))\n",
    "    g.add((block_uri, mc_block.hasBoundingBox, Literal(block['boundingBox'])))\n",
    "\n",
    "# Block loot\n",
    "for block_loot in data['blockLoot']:\n",
    "    for drop in block_loot['drops']:\n",
    "        block_name = block_loot['block']\n",
    "        block_drop_uri = mc_block[block_name + '/drop/' + drop['item']]\n",
    "        g.add((block_drop_uri, RDF.type, mc.BlockLoot))\n",
    "        g.add((block_drop_uri, mc_block_drop.hasItem, mc_item[drop['item']]))\n",
    "        g.add((block_drop_uri, mc_block_drop.hasDropChance, Literal(drop['dropChance'])))\n",
    "        g.add((block_drop_uri, mc_block_drop.hasMinCount, Literal(drop['stackSizeRange'][0])))\n",
    "        g.add((block_drop_uri, mc_block_drop.hasMaxCount, Literal(drop['stackSizeRange'][1])))\n",
    "        silk_touch = 'optional'\n",
    "        if 'silkTouch' in drop:\n",
    "            silk_touch = 'required'\n",
    "        if 'noSilkTouch' in drop:\n",
    "            silk_touch = 'forbidden'\n",
    "        g.add((block_drop_uri, mc_block_drop.hasSilkTouchRule, Literal(silk_touch)))\n",
    "        g.add((mc_block[block_name], mc_block.hasDrop, block_drop_uri))\n",
    "\n",
    "# Adding entities\n",
    "for entity in data['entities']:\n",
    "    entity_uri = mc_entity[entity['name']]\n",
    "    g.add((entity_uri, RDF.type, mc.Entity))\n",
    "    g.add((entity_uri, mc_entity.hasId, Literal(entity['id'])))\n",
    "    g.add((entity_uri, mc_entity.hasInternalId, Literal(entity['internalId'])))\n",
    "    g.add((entity_uri, mc_entity.hasName, Literal(entity['name'])))\n",
    "    g.add((entity_uri, mc_entity.hasDisplayName, Literal(entity['displayName'])))\n",
    "    g.add((entity_uri, mc_entity.hasWidth, Literal(entity['width'])))\n",
    "    g.add((entity_uri, mc_entity.hasHeight, Literal(entity['height'])))\n",
    "    g.add((entity_uri, mc_entity.hasType, Literal(entity['type'])))\n",
    "    g.add((entity_uri, mc_entity.hasCategory, Literal(entity['category'])))\n",
    "    for metadata_key in entity['metadataKeys']:\n",
    "        g.add((mc[entity['name']], mc_entity.hasMetadataKeys, Literal(metadata_key)))\n",
    "\n",
    "# Adding biomes\n",
    "for biome in data['biomes']:\n",
    "    biome_uri = mc_biome[biome['name']]\n",
    "    g.add((biome_uri, RDF.type, mc.Biome))\n",
    "    g.add((biome_uri, mc_biome.hasId, Literal(biome['id'])))\n",
    "    g.add((biome_uri, mc_biome.hasName, Literal(biome['name'])))\n",
    "    g.add((biome_uri, mc_biome.hasCategory, Literal(biome['category'])))\n",
    "    g.add((biome_uri, mc_biome.hasTemperature, Literal(biome['temperature'])))\n",
    "    g.add((biome_uri, mc_biome.hasPrecipitation, Literal(biome['has_precipitation'])))\n",
    "    g.add((biome_uri, mc_biome.hasDimension, Literal(biome['dimension'])))\n",
    "    g.add((biome_uri, mc_biome.hasDisplayName, Literal(biome['displayName'])))\n",
    "    g.add((biome_uri, mc_biome.hasColor, Literal(biome['color'])))\n",
    "\n",
    "# Adding particles\n",
    "for particle in data['particles']:\n",
    "    particle_uri = mc_particle[particle['name']]\n",
    "    g.add((particle_uri, RDF.type, mc.Particle))\n",
    "    g.add((particle_uri, mc_particle.hasId, Literal(particle['id'])))\n",
    "    g.add((particle_uri, mc_particle.hasName, Literal(particle['name'])))"
   ]
  },
  {
   "cell_type": "code",
   "execution_count": 104,
   "metadata": {},
   "outputs": [
    {
     "data": {
      "text/plain": [
       "<Graph identifier=Ne3b0ad6a3b9d4f2a993c23056408c33f (<class 'rdflib.graph.Graph'>)>"
      ]
     },
     "execution_count": 104,
     "metadata": {},
     "output_type": "execute_result"
    }
   ],
   "source": [
    "# serialize the graph\n",
    "g.serialize(destination='minecraft.ttl', format='turtle')"
   ]
  }
 ],
 "metadata": {
  "kernelspec": {
   "display_name": "base",
   "language": "python",
   "name": "python3"
  },
  "language_info": {
   "codemirror_mode": {
    "name": "ipython",
    "version": 3
   },
   "file_extension": ".py",
   "mimetype": "text/x-python",
   "name": "python",
   "nbconvert_exporter": "python",
   "pygments_lexer": "ipython3",
   "version": "3.11.5"
  }
 },
 "nbformat": 4,
 "nbformat_minor": 2
}

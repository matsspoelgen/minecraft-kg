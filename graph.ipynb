{
 "cells": [
  {
   "cell_type": "markdown",
   "metadata": {},
   "source": [
    "# Minecraft Data Knowledge Graph"
   ]
  },
  {
   "cell_type": "code",
   "execution_count": 110,
   "metadata": {},
   "outputs": [],
   "source": [
    "data_path = 'data\\\\minecraft-data-3.63.0\\\\data\\pc\\\\1.20\\\\'\n",
    "files = ['biomes', 'blockCollisionShapes', 'blockLoot', 'blocks', 'effects', 'enchantments', 'entities', 'entityLoot', 'foods', 'instruments', 'items', 'language', 'loginPacket', 'materials', 'particles', 'protocol', 'recipes', 'tints', 'version']"
   ]
  },
  {
   "cell_type": "markdown",
   "metadata": {},
   "source": [
    "Create Ontology"
   ]
  },
  {
   "cell_type": "code",
   "execution_count": 111,
   "metadata": {},
   "outputs": [],
   "source": [
    "import json\n",
    "from rdflib import Graph, Literal, BNode, Namespace, RDF, URIRef\n",
    "from rdflib.namespace import OWL, RDFS, XSD\n",
    "from rdflib.namespace import Namespace, NamespaceManager\n",
    "\n",
    "# create a graph\n",
    "g = Graph()\n",
    "\n",
    "# create namespaces\n",
    "# Minecraft\n",
    "mc = Namespace(\"http://example.org/minecraft/\")\n",
    "mc_block = Namespace(\"http://example.org/minecraft/block/\")\n",
    "mc_block_drop = Namespace(\"http://example.org/minecraft/block_drop/\")\n",
    "mc_item = Namespace(\"http://example.org/minecraft/item/\")\n",
    "mc_entity = Namespace(\"http://example.org/minecraft/entity/\")\n",
    "mc_entity_loot = Namespace(\"http://example.org/minecraft/entity_loot/\")\n",
    "mc_biome = Namespace(\"http://example.org/minecraft/biome/\")\n",
    "mc_particle = Namespace(\"http://example.org/minecraft/particle/\")\n",
    "mc_enchantment = Namespace(\"http://example.org/minecraft/enchantment/\")\n",
    "mc_food = Namespace(\"http://example.org/minecraft/food/\")\n",
    "mc_effect = Namespace(\"http://example.org/minecraft/effect/\")\n",
    "mc_recipe = Namespace(\"http://example.org/minecraft/recipe/\")\n",
    "\n",
    "# create a namespace manager\n",
    "nm = NamespaceManager(g)\n",
    "nm.bind('mc', mc)\n",
    "nm.bind('mc_block', mc_block)\n",
    "nm.bind('mc_block_drop', mc_block_drop)\n",
    "nm.bind('mc_item', mc_item)\n",
    "nm.bind('mc_entity', mc_entity)\n",
    "nm.bind('mc_biome', mc_biome)\n",
    "nm.bind('mc_particle', mc_particle)\n",
    "nm.bind('mc_enchantment', mc_enchantment)\n",
    "nm.bind('mc_food', mc_food)\n",
    "nm.bind('mc_effect', mc_effect)\n",
    "nm.bind('mc_recipe', mc_recipe)\n",
    "\n",
    "# add namespaces to the graph\n",
    "g.namespace_manager = nm\n",
    "\n",
    "# create a dictionary to store the data\n",
    "data = {}\n",
    "\n",
    "# load the data\n",
    "for file in files:\n",
    "    with open(data_path + file + '.json') as f:\n",
    "        data[file] = json.load(f)"
   ]
  },
  {
   "cell_type": "code",
   "execution_count": 112,
   "metadata": {},
   "outputs": [
    {
     "data": {
      "text/plain": [
       "<Graph identifier=N585e233752c346278ed9c8d59960a113 (<class 'rdflib.graph.Graph'>)>"
      ]
     },
     "execution_count": 112,
     "metadata": {},
     "output_type": "execute_result"
    }
   ],
   "source": [
    "# create ontology\n",
    "\n",
    "# create classes\n",
    "g.add((mc.Biome, RDF.type, OWL.Class))\n",
    "g.add((mc.Block, RDF.type, OWL.Class))\n",
    "g.add((mc.Effect, RDF.type, OWL.Class))\n",
    "g.add((mc.Enchantment, RDF.type, OWL.Class))\n",
    "g.add((mc.Entity, RDF.type, OWL.Class))\n",
    "g.add((mc.Food, RDF.type, OWL.Class))\n",
    "g.add((mc.Item, RDF.type, OWL.Class))\n",
    "g.add((mc.Material, RDF.type, OWL.Class))\n",
    "g.add((mc.Particle, RDF.type, OWL.Class))\n",
    "g.add((mc.Recipe, RDF.type, OWL.Class))\n",
    "g.add((mc.Tint, RDF.type, OWL.Class))\n",
    "g.add((mc.BlockLoot, RDF.type, OWL.Class))\n",
    "g.add((mc.EntityLoot, RDF.type, OWL.Class))"
   ]
  },
  {
   "cell_type": "markdown",
   "metadata": {},
   "source": [
    "## Create properties"
   ]
  },
  {
   "cell_type": "markdown",
   "metadata": {},
   "source": [
    "### General"
   ]
  },
  {
   "cell_type": "code",
   "execution_count": 113,
   "metadata": {},
   "outputs": [
    {
     "data": {
      "text/plain": [
       "<Graph identifier=N585e233752c346278ed9c8d59960a113 (<class 'rdflib.graph.Graph'>)>"
      ]
     },
     "execution_count": 113,
     "metadata": {},
     "output_type": "execute_result"
    }
   ],
   "source": [
    "# Id\n",
    "g.add((mc.hasId, RDF.type, OWL.DatatypeProperty))\n",
    "g.add((mc.hasId, RDFS.domain, RDFS.Resource))\n",
    "g.add((mc.hasId, RDFS.range, XSD.integer))\n",
    "\n",
    "# Name\n",
    "g.add((mc.hasName, RDF.type, OWL.DatatypeProperty))\n",
    "g.add((mc.hasName, RDFS.domain, RDFS.Resource))\n",
    "g.add((mc.hasName, RDFS.range, XSD.string))\n",
    "\n",
    "# Display Name\n",
    "g.add((mc.hasDisplayName, RDF.type, OWL.DatatypeProperty))\n",
    "g.add((mc.hasDisplayName, RDFS.domain, RDFS.Resource))\n",
    "g.add((mc.hasDisplayName, RDFS.range, XSD.string))"
   ]
  },
  {
   "cell_type": "markdown",
   "metadata": {},
   "source": [
    "### Blocks"
   ]
  },
  {
   "cell_type": "code",
   "execution_count": 114,
   "metadata": {},
   "outputs": [
    {
     "data": {
      "text/plain": [
       "<Graph identifier=N585e233752c346278ed9c8d59960a113 (<class 'rdflib.graph.Graph'>)>"
      ]
     },
     "execution_count": 114,
     "metadata": {},
     "output_type": "execute_result"
    }
   ],
   "source": [
    "# Display Name\n",
    "g.add((mc_block.hasDisplayName, RDF.type, OWL.DatatypeProperty))\n",
    "g.add((mc_block.hasDisplayName, RDFS.domain, mc.Block))\n",
    "g.add((mc_block.hasDisplayName, RDFS.range, XSD.string))\n",
    "\n",
    "# Hardness\n",
    "g.add((mc_block.hasHardness, RDF.type, OWL.DatatypeProperty))\n",
    "g.add((mc_block.hasHardness, RDFS.domain, mc.Block))\n",
    "g.add((mc_block.hasHardness, RDFS.range, XSD.float))\n",
    "\n",
    "# Resistance\n",
    "g.add((mc_block.hasResistance, RDF.type, OWL.DatatypeProperty))\n",
    "g.add((mc_block.hasResistance, RDFS.domain, mc.Block))\n",
    "g.add((mc_block.hasResistance, RDFS.range, XSD.float))\n",
    "\n",
    "# Diggable\n",
    "g.add((mc_block.isDiggable, RDF.type, OWL.DatatypeProperty))\n",
    "g.add((mc_block.isDiggable, RDFS.domain, mc.Block))\n",
    "g.add((mc_block.isDiggable, RDFS.range, XSD.boolean))\n",
    "\n",
    "# Material\n",
    "g.add((mc_block.hasMaterial, RDF.type, OWL.DatatypeProperty))\n",
    "g.add((mc_block.hasMaterial, RDFS.domain, mc.Block))\n",
    "g.add((mc_block.hasMaterial, RDFS.range, XSD.string))\n",
    "\n",
    "# Transparent\n",
    "g.add((mc_block.isTransparent, RDF.type, OWL.DatatypeProperty))\n",
    "g.add((mc_block.isTransparent, RDFS.domain, mc.Block))\n",
    "g.add((mc_block.isTransparent, RDFS.range, XSD.boolean))\n",
    "\n",
    "# Emit Light\n",
    "g.add((mc_block.emitLight, RDF.type, OWL.DatatypeProperty))\n",
    "g.add((mc_block.emitLight, RDFS.domain, mc.Block))\n",
    "g.add((mc_block.emitLight, RDFS.range, XSD.integer))\n",
    "\n",
    "# Filter Light\n",
    "g.add((mc_block.filterLight, RDF.type, OWL.DatatypeProperty))\n",
    "g.add((mc_block.filterLight, RDFS.domain, mc.Block))\n",
    "g.add((mc_block.filterLight, RDFS.range, XSD.integer))\n",
    "\n",
    "# Default State\n",
    "g.add((mc_block.hasDefaultState, RDF.type, OWL.DatatypeProperty))\n",
    "g.add((mc_block.hasDefaultState, RDFS.domain, mc.Block))\n",
    "g.add((mc_block.hasDefaultState, RDFS.range, XSD.integer))\n",
    "\n",
    "# Min State Id\n",
    "g.add((mc_block.hasMinStateId, RDF.type, OWL.DatatypeProperty))\n",
    "g.add((mc_block.hasMinStateId, RDFS.domain, mc.Block))\n",
    "g.add((mc_block.hasMinStateId, RDFS.range, XSD.integer))\n",
    "\n",
    "# Max State Id\n",
    "g.add((mc_block.hasMaxStateId, RDF.type, OWL.DatatypeProperty))\n",
    "g.add((mc_block.hasMaxStateId, RDFS.domain, mc.Block))\n",
    "g.add((mc_block.hasMaxStateId, RDFS.range, XSD.integer))\n",
    "\n",
    "# States\n",
    "g.add((mc_block.hasStates, RDF.type, OWL.DatatypeProperty))\n",
    "g.add((mc_block.hasStates, RDFS.domain, mc.Block))\n",
    "g.add((mc_block.hasStates, RDFS.range, RDF.List))\n",
    "\n",
    "# Drop\n",
    "g.add((mc_block.hasDrop, RDF.type, OWL.DatatypeProperty))\n",
    "g.add((mc_block.hasDrop, RDFS.domain, mc.Block))\n",
    "g.add((mc_block.hasDrop, RDFS.range, mc.BlockLoot))\n",
    "\n",
    "# Bounding Box\n",
    "g.add((mc_block.hasBoundingBox, RDF.type, OWL.DatatypeProperty))\n",
    "g.add((mc_block.hasBoundingBox, RDFS.domain, mc.Block))\n",
    "g.add((mc_block.hasBoundingBox, RDFS.range, XSD.string))"
   ]
  },
  {
   "cell_type": "markdown",
   "metadata": {},
   "source": [
    "### Block Loot"
   ]
  },
  {
   "cell_type": "code",
   "execution_count": 115,
   "metadata": {},
   "outputs": [
    {
     "data": {
      "text/plain": [
       "<Graph identifier=N585e233752c346278ed9c8d59960a113 (<class 'rdflib.graph.Graph'>)>"
      ]
     },
     "execution_count": 115,
     "metadata": {},
     "output_type": "execute_result"
    }
   ],
   "source": [
    "# Item\n",
    "g.add((mc_block_drop.hasItem, RDF.type, OWL.DatatypeProperty))\n",
    "g.add((mc_block_drop.hasItem, RDFS.domain, mc.BlockLoot))\n",
    "g.add((mc_block_drop.hasItem, RDFS.range, mc.Item))\n",
    "\n",
    "# Drop Chance\n",
    "g.add((mc_block_drop.hasDropChance, RDF.type, OWL.DatatypeProperty))\n",
    "g.add((mc_block_drop.hasDropChance, RDFS.domain, mc.BlockLoot))\n",
    "g.add((mc_block_drop.hasDropChance, RDFS.range, XSD.float))\n",
    "\n",
    "# Min Count\n",
    "g.add((mc_block_drop.hasMinCount, RDF.type, OWL.DatatypeProperty))\n",
    "g.add((mc_block_drop.hasMinCount, RDFS.domain, mc.BlockLoot))\n",
    "g.add((mc_block_drop.hasMinCount, RDFS.range, XSD.integer))\n",
    "\n",
    "# Max Count\n",
    "g.add((mc_block_drop.hasMaxCount, RDF.type, OWL.DatatypeProperty))\n",
    "g.add((mc_block_drop.hasMaxCount, RDFS.domain, mc.BlockLoot))\n",
    "g.add((mc_block_drop.hasMaxCount, RDFS.range, XSD.integer))\n",
    " \n",
    "# Silk Touch Effect (required / forbidden / optional)\n",
    "g.add((mc_block_drop.hasSilkTouchRule, RDF.type, OWL.DatatypeProperty))\n",
    "g.add((mc_block_drop.hasSilkTouchRule, RDFS.domain, mc.BlockLoot))\n",
    "g.add((mc_block_drop.hasSilkTouchRule, RDFS.range, XSD.string))"
   ]
  },
  {
   "cell_type": "markdown",
   "metadata": {},
   "source": [
    "### Items"
   ]
  },
  {
   "cell_type": "code",
   "execution_count": 116,
   "metadata": {},
   "outputs": [
    {
     "data": {
      "text/plain": [
       "<Graph identifier=N585e233752c346278ed9c8d59960a113 (<class 'rdflib.graph.Graph'>)>"
      ]
     },
     "execution_count": 116,
     "metadata": {},
     "output_type": "execute_result"
    }
   ],
   "source": [
    "# Stack Size\n",
    "g.add((mc_item.hasStackSize, RDF.type, OWL.DatatypeProperty))\n",
    "g.add((mc_item.hasStackSize, RDFS.domain, mc.Item))\n",
    "g.add((mc_item.hasStackSize, RDFS.range, XSD.integer))\n",
    "\n",
    "# Recipe\n",
    "g.add((mc_item.hasRecipe, RDF.type, OWL.DatatypeProperty))\n",
    "g.add((mc_item.hasRecipe, RDFS.domain, mc.Item))\n",
    "g.add((mc_item.hasRecipe, RDFS.range, mc.Recipe))\n",
    "\n",
    "# TODO stuff missing here"
   ]
  },
  {
   "cell_type": "markdown",
   "metadata": {},
   "source": [
    "### Recipes"
   ]
  },
  {
   "cell_type": "code",
   "execution_count": 117,
   "metadata": {},
   "outputs": [
    {
     "data": {
      "text/plain": [
       "<Graph identifier=N585e233752c346278ed9c8d59960a113 (<class 'rdflib.graph.Graph'>)>"
      ]
     },
     "execution_count": 117,
     "metadata": {},
     "output_type": "execute_result"
    }
   ],
   "source": [
    "# Shape\n",
    "g.add((mc_recipe.hasShape, RDF.type, OWL.DatatypeProperty))\n",
    "g.add((mc_recipe.hasShape, RDFS.domain, mc.Recipe))\n",
    "g.add((mc_recipe.hasShape, RDFS.range, RDF.List))\n",
    "\n",
    "# Ingredients\n",
    "g.add((mc_recipe.hasIngredients, RDF.type, OWL.DatatypeProperty))\n",
    "g.add((mc_recipe.hasIngredients, RDFS.domain, mc.Recipe))\n",
    "g.add((mc_recipe.hasIngredients, RDFS.range, RDF.List))\n",
    "\n",
    "# Count\n",
    "g.add((mc_recipe.hasCount, RDF.type, OWL.DatatypeProperty))\n",
    "g.add((mc_recipe.hasCount, RDFS.domain, mc.Recipe))\n",
    "g.add((mc_recipe.hasCount, RDFS.range, XSD.integer))"
   ]
  },
  {
   "cell_type": "markdown",
   "metadata": {},
   "source": [
    "### Entities\n"
   ]
  },
  {
   "cell_type": "code",
   "execution_count": 118,
   "metadata": {},
   "outputs": [
    {
     "data": {
      "text/plain": [
       "<Graph identifier=N585e233752c346278ed9c8d59960a113 (<class 'rdflib.graph.Graph'>)>"
      ]
     },
     "execution_count": 118,
     "metadata": {},
     "output_type": "execute_result"
    }
   ],
   "source": [
    "# Internal Id\n",
    "g.add((mc_entity.hasInternalId, RDF.type, OWL.DatatypeProperty))\n",
    "g.add((mc_entity.hasInternalId, RDFS.domain, mc.Entity))\n",
    "g.add((mc_entity.hasInternalId, RDFS.range, XSD.integer))\n",
    "\n",
    "# Width\n",
    "g.add((mc_entity.hasWidth, RDF.type, OWL.DatatypeProperty))\n",
    "g.add((mc_entity.hasWidth, RDFS.domain, mc.Entity))\n",
    "g.add((mc_entity.hasWidth, RDFS.range, XSD.float))\n",
    "\n",
    "# Height\n",
    "g.add((mc_entity.hasHeight, RDF.type, OWL.DatatypeProperty))\n",
    "g.add((mc_entity.hasHeight, RDFS.domain, mc.Entity))\n",
    "g.add((mc_entity.hasHeight, RDFS.range, XSD.float))\n",
    "\n",
    "# Type\n",
    "g.add((mc_entity.hasType, RDF.type, OWL.DatatypeProperty))\n",
    "g.add((mc_entity.hasType, RDFS.domain, mc.Entity))\n",
    "g.add((mc_entity.hasType, RDFS.range, XSD.string))\n",
    "\n",
    "# Category\n",
    "g.add((mc_entity.hasCategory, RDF.type, OWL.DatatypeProperty))\n",
    "g.add((mc_entity.hasCategory, RDFS.domain, mc.Entity))\n",
    "g.add((mc_entity.hasCategory, RDFS.range, XSD.string))\n",
    "\n",
    "# Metadata Keys\n",
    "g.add((mc_entity.hasMetadataKeys, RDF.type, OWL.DatatypeProperty))\n",
    "g.add((mc_entity.hasMetadataKeys, RDFS.domain, mc.Entity))\n",
    "g.add((mc_entity.hasMetadataKeys, RDFS.range, RDF.List))"
   ]
  },
  {
   "cell_type": "markdown",
   "metadata": {},
   "source": [
    "### Entity Loot"
   ]
  },
  {
   "cell_type": "code",
   "execution_count": 119,
   "metadata": {},
   "outputs": [
    {
     "data": {
      "text/plain": [
       "<Graph identifier=N585e233752c346278ed9c8d59960a113 (<class 'rdflib.graph.Graph'>)>"
      ]
     },
     "execution_count": 119,
     "metadata": {},
     "output_type": "execute_result"
    }
   ],
   "source": [
    "# Item\n",
    "g.add((mc_entity_loot.hasItem, RDF.type, OWL.ObjectProperty))\n",
    "g.add((mc_entity_loot.hasItem, RDFS.domain, mc.EntityLoot))\n",
    "g.add((mc_entity_loot.hasItem, RDFS.range, mc.Item))\n",
    "\n",
    "# Drop Chance\n",
    "g.add((mc_entity_loot.hasDropChance, RDF.type, OWL.DatatypeProperty))\n",
    "g.add((mc_entity_loot.hasDropChance, RDFS.domain, mc.EntityLoot))\n",
    "g.add((mc_entity_loot.hasDropChance, RDFS.range, XSD.float))\n",
    "\n",
    "# Min Count\n",
    "g.add((mc_entity_loot.hasMinCount, RDF.type, OWL.DatatypeProperty))\n",
    "g.add((mc_entity_loot.hasMinCount, RDFS.domain, mc.EntityLoot))\n",
    "g.add((mc_entity_loot.hasMinCount, RDFS.range, XSD.integer))\n",
    "\n",
    "# Max Count\n",
    "g.add((mc_entity_loot.hasMaxCount, RDF.type, OWL.DatatypeProperty))\n",
    "g.add((mc_entity_loot.hasMaxCount, RDFS.domain, mc.EntityLoot))\n",
    "g.add((mc_entity_loot.hasMaxCount, RDFS.range, XSD.integer))\n",
    "\n",
    "# Requires Player Kill\n",
    "g.add((mc_entity_loot.requiresPlayerKill, RDF.type, OWL.DatatypeProperty))\n",
    "g.add((mc_entity_loot.requiresPlayerKill, RDFS.domain, mc.EntityLoot))\n",
    "g.add((mc_entity_loot.requiresPlayerKill, RDFS.range, XSD.boolean))"
   ]
  },
  {
   "cell_type": "markdown",
   "metadata": {},
   "source": [
    "### Biomes"
   ]
  },
  {
   "cell_type": "code",
   "execution_count": 120,
   "metadata": {},
   "outputs": [
    {
     "data": {
      "text/plain": [
       "<Graph identifier=N585e233752c346278ed9c8d59960a113 (<class 'rdflib.graph.Graph'>)>"
      ]
     },
     "execution_count": 120,
     "metadata": {},
     "output_type": "execute_result"
    }
   ],
   "source": [
    "# Category\n",
    "g.add((mc_biome.hasCategory, RDF.type, OWL.DatatypeProperty))\n",
    "g.add((mc_biome.hasCategory, RDFS.domain, mc.Biome))\n",
    "g.add((mc_biome.hasCategory, RDFS.range, XSD.string))\n",
    "\n",
    "# Temperature\n",
    "g.add((mc_biome.hasTemperature, RDF.type, OWL.DatatypeProperty))\n",
    "g.add((mc_biome.hasTemperature, RDFS.domain, mc.Biome))\n",
    "g.add((mc_biome.hasTemperature, RDFS.range, XSD.float))\n",
    "\n",
    "# Precipitation\n",
    "g.add((mc_biome.hasPrecipitation, RDF.type, OWL.DatatypeProperty))\n",
    "g.add((mc_biome.hasPrecipitation, RDFS.domain, mc.Biome))\n",
    "g.add((mc_biome.hasPrecipitation, RDFS.range, XSD.boolean))\n",
    "\n",
    "# Display Name\n",
    "g.add((mc_biome.hasDisplayName, RDF.type, OWL.DatatypeProperty))\n",
    "g.add((mc_biome.hasDisplayName, RDFS.domain, mc.Biome))\n",
    "g.add((mc_biome.hasDisplayName, RDFS.range, XSD.string))\n",
    "\n",
    "# Color\n",
    "g.add((mc_biome.hasColor, RDF.type, OWL.DatatypeProperty))\n",
    "g.add((mc_biome.hasColor, RDFS.domain, mc.Biome))\n",
    "g.add((mc_biome.hasColor, RDFS.range, XSD.integer))"
   ]
  },
  {
   "cell_type": "markdown",
   "metadata": {},
   "source": [
    "### Enchantments"
   ]
  },
  {
   "cell_type": "code",
   "execution_count": 121,
   "metadata": {},
   "outputs": [
    {
     "data": {
      "text/plain": [
       "<Graph identifier=N585e233752c346278ed9c8d59960a113 (<class 'rdflib.graph.Graph'>)>"
      ]
     },
     "execution_count": 121,
     "metadata": {},
     "output_type": "execute_result"
    }
   ],
   "source": [
    "# Max Level\n",
    "g.add((mc_enchantment.hasMaxLevel, RDF.type, OWL.DatatypeProperty))\n",
    "g.add((mc_enchantment.hasMaxLevel, RDFS.domain, mc.Enchantment))\n",
    "g.add((mc_enchantment.hasMaxLevel, RDFS.range, XSD.integer))\n",
    "\n",
    "# Min Cost A\n",
    "g.add((mc_enchantment.hasMinCostA, RDF.type, OWL.DatatypeProperty))\n",
    "g.add((mc_enchantment.hasMinCostA, RDFS.domain, mc.Enchantment))\n",
    "g.add((mc_enchantment.hasMinCostA, RDFS.range, XSD.integer))\n",
    "\n",
    "# Min Cost B\n",
    "g.add((mc_enchantment.hasMinCostB, RDF.type, OWL.DatatypeProperty))\n",
    "g.add((mc_enchantment.hasMinCostB, RDFS.domain, mc.Enchantment))\n",
    "g.add((mc_enchantment.hasMinCostB, RDFS.range, XSD.integer))\n",
    "\n",
    "# Max Cost A\n",
    "g.add((mc_enchantment.hasMaxCostA, RDF.type, OWL.DatatypeProperty))\n",
    "g.add((mc_enchantment.hasMaxCostA, RDFS.domain, mc.Enchantment))\n",
    "g.add((mc_enchantment.hasMaxCostA, RDFS.range, XSD.integer))\n",
    "\n",
    "# Max Cost B\n",
    "g.add((mc_enchantment.hasMaxCostB, RDF.type, OWL.DatatypeProperty))\n",
    "g.add((mc_enchantment.hasMaxCostB, RDFS.domain, mc.Enchantment))\n",
    "g.add((mc_enchantment.hasMaxCostB, RDFS.range, XSD.integer))\n",
    "\n",
    "# Is Treasure Only\n",
    "g.add((mc_enchantment.isTreasureOnly, RDF.type, OWL.DatatypeProperty))\n",
    "g.add((mc_enchantment.isTreasureOnly, RDFS.domain, mc.Enchantment))\n",
    "g.add((mc_enchantment.isTreasureOnly, RDFS.range, XSD.boolean))\n",
    "\n",
    "# Is Curse\n",
    "g.add((mc_enchantment.isCurse, RDF.type, OWL.DatatypeProperty))\n",
    "g.add((mc_enchantment.isCurse, RDFS.domain, mc.Enchantment))\n",
    "g.add((mc_enchantment.isCurse, RDFS.range, XSD.boolean))\n",
    "\n",
    "# Excludes\n",
    "g.add((mc_enchantment.hasExclude, RDF.type, OWL.DatatypeProperty))\n",
    "g.add((mc_enchantment.hasExclude, RDFS.domain, mc.Enchantment))\n",
    "g.add((mc_enchantment.hasExclude, RDFS.range, mc.Enchantment))\n",
    "\n",
    "# Category\n",
    "g.add((mc_enchantment.hasCategory, RDF.type, OWL.DatatypeProperty))\n",
    "g.add((mc_enchantment.hasCategory, RDFS.domain, mc.Enchantment))\n",
    "g.add((mc_enchantment.hasCategory, RDFS.range, XSD.string))\n",
    "\n",
    "# Weight\n",
    "g.add((mc_enchantment.hasWeight, RDF.type, OWL.DatatypeProperty))\n",
    "g.add((mc_enchantment.hasWeight, RDFS.domain, mc.Enchantment))\n",
    "g.add((mc_enchantment.hasWeight, RDFS.range, XSD.integer))\n",
    "\n",
    "# Is Tradeable\n",
    "g.add((mc_enchantment.isTradeable, RDF.type, OWL.DatatypeProperty))\n",
    "g.add((mc_enchantment.isTradeable, RDFS.domain, mc.Enchantment))\n",
    "g.add((mc_enchantment.isTradeable, RDFS.range, XSD.boolean))\n",
    "\n",
    "# Is Discoverable\n",
    "g.add((mc_enchantment.isDiscoverable, RDF.type, OWL.DatatypeProperty))\n",
    "g.add((mc_enchantment.isDiscoverable, RDFS.domain, mc.Enchantment))\n",
    "g.add((mc_enchantment.isDiscoverable, RDFS.range, XSD.boolean))"
   ]
  },
  {
   "cell_type": "markdown",
   "metadata": {},
   "source": [
    "### Foods"
   ]
  },
  {
   "cell_type": "code",
   "execution_count": 122,
   "metadata": {},
   "outputs": [
    {
     "data": {
      "text/plain": [
       "<Graph identifier=N585e233752c346278ed9c8d59960a113 (<class 'rdflib.graph.Graph'>)>"
      ]
     },
     "execution_count": 122,
     "metadata": {},
     "output_type": "execute_result"
    }
   ],
   "source": [
    "# Food Points\n",
    "g.add((mc_food.hasFoodPoints, RDF.type, OWL.DatatypeProperty))\n",
    "g.add((mc_food.hasFoodPoints, RDFS.domain, mc.Food))\n",
    "g.add((mc_food.hasFoodPoints, RDFS.range, XSD.float))\n",
    "\n",
    "# Saturation\n",
    "g.add((mc_food.hasSaturation, RDF.type, OWL.DatatypeProperty))\n",
    "g.add((mc_food.hasSaturation, RDFS.domain, mc.Food))\n",
    "g.add((mc_food.hasSaturation, RDFS.range, XSD.float))\n",
    "\n",
    "# Effective Quality\n",
    "g.add((mc_food.hasEffectiveQuality, RDF.type, OWL.DatatypeProperty))\n",
    "g.add((mc_food.hasEffectiveQuality, RDFS.domain, mc.Food))\n",
    "g.add((mc_food.hasEffectiveQuality, RDFS.range, XSD.float))\n",
    "\n",
    "# Saturation Ratio\n",
    "g.add((mc_food.hasSaturationRatio, RDF.type, OWL.DatatypeProperty))\n",
    "g.add((mc_food.hasSaturationRatio, RDFS.domain, mc.Food))\n",
    "g.add((mc_food.hasSaturationRatio, RDFS.range, XSD.float))"
   ]
  },
  {
   "cell_type": "markdown",
   "metadata": {},
   "source": [
    "### Effects"
   ]
  },
  {
   "cell_type": "code",
   "execution_count": 123,
   "metadata": {},
   "outputs": [
    {
     "data": {
      "text/plain": [
       "<Graph identifier=N585e233752c346278ed9c8d59960a113 (<class 'rdflib.graph.Graph'>)>"
      ]
     },
     "execution_count": 123,
     "metadata": {},
     "output_type": "execute_result"
    }
   ],
   "source": [
    "# Good\n",
    "g.add((mc_food.isGood, RDF.type, OWL.DatatypeProperty))\n",
    "g.add((mc_food.isGood, RDFS.domain, mc.Food))\n",
    "g.add((mc_food.isGood, RDFS.range, XSD.boolean))"
   ]
  },
  {
   "cell_type": "markdown",
   "metadata": {},
   "source": [
    "## Create Triples"
   ]
  },
  {
   "cell_type": "code",
   "execution_count": 124,
   "metadata": {},
   "outputs": [],
   "source": [
    "# Adding items\n",
    "for item in data['items']:\n",
    "    item_uri = mc_item[item['name']]\n",
    "    g.add((item_uri, RDF.type, mc.Item))\n",
    "    g.add((item_uri, mc.hasId, Literal(item['id'])))\n",
    "    g.add((item_uri, mc.hasName, Literal(item['name'])))\n",
    "    g.add((item_uri, mc.hasDisplayName, Literal(item['displayName'])))\n",
    "    g.add((item_uri, mc_item.hasStackSize, Literal(item['stackSize'])))\n",
    "\n",
    "# TODO link recipe array to items\n",
    "\n",
    "# Adding recipes\n",
    "for item in data['items']:\n",
    "    id_str = str(item['id'])\n",
    "    item_uri = mc_item[item['name']]\n",
    "    if id_str in data['recipes']:\n",
    "        item_recipes = data['recipes'][id_str]\n",
    "        for index, recipe in enumerate(item_recipes):\n",
    "            recipe_uri = item_uri + f'/recipe/{index}'\n",
    "            g.add((recipe_uri, RDF.type, mc.Recipe))\n",
    "            g.add((recipe_uri, mc.hasId, Literal(f'{id_str}_{index}')))\n",
    "            if 'inShape' in recipe:\n",
    "                g.add((recipe_uri, mc_recipe.hasShape, Literal(recipe['inShape'])))\n",
    "            else:\n",
    "                g.add((recipe_uri, mc_recipe.hasIngredients, Literal(recipe['ingredients'])))\n",
    "            g.add((recipe_uri, mc_recipe.hasCount, Literal(recipe['result']['count'])))\n",
    "            g.add((item_uri, mc_item.hasRecipe, recipe_uri))\n",
    "\n",
    "# Adding blocks\n",
    "for block in data['blocks']:\n",
    "    block_uri = mc_block[block['name']]\n",
    "    g.add((block_uri, RDF.type, mc.Block))\n",
    "    g.add((block_uri, mc.hasId, Literal(block['id'])))\n",
    "    g.add((block_uri, mc.hasName, Literal(block['name'])))\n",
    "    g.add((block_uri, mc.hasDisplayName, Literal(block['displayName'])))\n",
    "    g.add((block_uri, mc_block.hasHardness, Literal(block['hardness'])))\n",
    "    g.add((block_uri, mc_block.hasResistance, Literal(block['resistance'])))\n",
    "    g.add((block_uri, mc_block.isDiggable, Literal(block['diggable'])))\n",
    "    g.add((block_uri, mc_block.hasMaterial, Literal(block['material'])))\n",
    "    g.add((block_uri, mc_block.isTransparent, Literal(block['transparent'])))\n",
    "    g.add((block_uri, mc_block.emitLight, Literal(block['emitLight'])))\n",
    "    g.add((block_uri, mc_block.filterLight, Literal(block['filterLight'])))\n",
    "    g.add((block_uri, mc_block.hasDefaultState, Literal(block['defaultState'])))\n",
    "    g.add((block_uri, mc_block.hasMinStateId, Literal(block['minStateId'])))\n",
    "    g.add((block_uri, mc_block.hasMaxStateId, Literal(block['maxStateId'])))\n",
    "    g.add((block_uri, mc_block.hasStates, Literal(block['states'])))\n",
    "    g.add((block_uri, mc_block.hasBoundingBox, Literal(block['boundingBox'])))\n",
    "\n",
    "# Block loot\n",
    "for block_loot in data['blockLoot']:\n",
    "    block_name = block_loot['block']\n",
    "    for drop in block_loot['drops']:\n",
    "        block_drop_uri = mc_block[block_name + '/drop/' + drop['item']]\n",
    "        g.add((block_drop_uri, RDF.type, mc.BlockLoot))\n",
    "        g.add((block_drop_uri, mc_block_drop.hasItem, mc_item[drop['item']]))\n",
    "        g.add((block_drop_uri, mc_block_drop.hasDropChance, Literal(drop['dropChance'])))\n",
    "        g.add((block_drop_uri, mc_block_drop.hasMinCount, Literal(drop['stackSizeRange'][0])))\n",
    "        g.add((block_drop_uri, mc_block_drop.hasMaxCount, Literal(drop['stackSizeRange'][1])))\n",
    "        silk_touch = 'optional'\n",
    "        if 'silkTouch' in drop:\n",
    "            silk_touch = 'required'\n",
    "        if 'noSilkTouch' in drop:\n",
    "            silk_touch = 'forbidden'\n",
    "        g.add((block_drop_uri, mc_block_drop.hasSilkTouchRule, Literal(silk_touch)))\n",
    "        g.add((mc_block[block_name], mc_block.hasDrop, block_drop_uri))\n",
    "\n",
    "# Adding entities\n",
    "for entity in data['entities']:\n",
    "    entity_uri = mc_entity[entity['name']]\n",
    "    g.add((entity_uri, RDF.type, mc.Entity))\n",
    "    g.add((entity_uri, mc.hasId, Literal(entity['id'])))\n",
    "    g.add((entity_uri, mc.hasName, Literal(entity['name'])))\n",
    "    g.add((entity_uri, mc.hasDisplayName, Literal(entity['displayName'])))\n",
    "    g.add((entity_uri, mc_entity.hasInternalId, Literal(entity['internalId'])))\n",
    "    g.add((entity_uri, mc_entity.hasWidth, Literal(entity['width'])))\n",
    "    g.add((entity_uri, mc_entity.hasHeight, Literal(entity['height'])))\n",
    "    g.add((entity_uri, mc_entity.hasType, Literal(entity['type'])))\n",
    "    g.add((entity_uri, mc_entity.hasCategory, Literal(entity['category'])))\n",
    "    for metadata_key in entity['metadataKeys']:\n",
    "        g.add((mc[entity['name']], mc_entity.hasMetadataKeys, Literal(metadata_key)))\n",
    "\n",
    "# Adding entity loot\n",
    "for entity_loot_data in data['entityLoot']:\n",
    "    entity_name = entity_loot_data['entity']\n",
    "    for drop in entity_loot_data['drops']:\n",
    "        entity_drop_uri = mc_entity_loot[entity_loot_data['entity'] + '/drop/' + drop['item']]\n",
    "        g.add((entity_drop_uri, RDF.type, mc.EntityLoot))\n",
    "        g.add((entity_drop_uri, mc_entity_loot.hasItem, mc_item[drop['item']]))\n",
    "        g.add((entity_drop_uri, mc_entity_loot.hasDropChance, Literal(drop['dropChance'])))\n",
    "        g.add((entity_drop_uri, mc_entity_loot.hasMinCount, Literal(drop['stackSizeRange'][0])))\n",
    "        g.add((entity_drop_uri, mc_entity_loot.hasMaxCount, Literal(drop['stackSizeRange'][1])))\n",
    "        requires_player_kill = False\n",
    "        if 'playerKill' in drop:\n",
    "            requires_player_kill = drop['playerKill']\n",
    "        g.add((entity_drop_uri, mc_entity_loot.requiresPlayerKill, Literal(requires_player_kill)))\n",
    "        g.add((mc_entity[entity_name], mc_entity_loot.hasItem, entity_drop_uri))\n",
    "\n",
    "# Adding biomes\n",
    "for biome in data['biomes']:\n",
    "    biome_uri = mc_biome[biome['name']]\n",
    "    g.add((biome_uri, RDF.type, mc.Biome))\n",
    "    g.add((biome_uri, mc.hasId, Literal(biome['id'])))\n",
    "    g.add((biome_uri, mc.hasName, Literal(biome['name'])))\n",
    "    g.add((biome_uri, mc.hasDisplayName, Literal(biome['displayName'])))\n",
    "    g.add((biome_uri, mc_biome.hasCategory, Literal(biome['category'])))\n",
    "    g.add((biome_uri, mc_biome.hasTemperature, Literal(biome['temperature'])))\n",
    "    g.add((biome_uri, mc_biome.hasPrecipitation, Literal(biome['has_precipitation'])))\n",
    "    g.add((biome_uri, mc_biome.hasDimension, Literal(biome['dimension'])))\n",
    "    g.add((biome_uri, mc_biome.hasColor, Literal(biome['color'])))\n",
    "\n",
    "# Adding enchantments\n",
    "for enchantment in data['enchantments']:\n",
    "    enchantment_uri = mc_enchantment[enchantment['name']]\n",
    "    g.add((enchantment_uri, RDF.type, mc.Enchantment))\n",
    "    g.add((enchantment_uri, mc.hasId, Literal(enchantment['id'])))\n",
    "    g.add((enchantment_uri, mc.hasName, Literal(enchantment['name'])))\n",
    "    g.add((enchantment_uri, mc.hasDisplayName, Literal(enchantment['displayName'])))\n",
    "    g.add((enchantment_uri, mc_enchantment.hasMaxLevel, Literal(enchantment['maxLevel'])))\n",
    "    g.add((enchantment_uri, mc_enchantment.hasMinCostA, Literal(enchantment['minCost']['a'])))\n",
    "    g.add((enchantment_uri, mc_enchantment.hasMinCostB, Literal(enchantment['minCost']['b'])))\n",
    "    g.add((enchantment_uri, mc_enchantment.hasMaxCostA, Literal(enchantment['maxCost']['a'])))\n",
    "    g.add((enchantment_uri, mc_enchantment.hasMaxCostB, Literal(enchantment['maxCost']['b'])))\n",
    "    g.add((enchantment_uri, mc_enchantment.isTreasureOnly, Literal(enchantment['treasureOnly'])))\n",
    "    g.add((enchantment_uri, mc_enchantment.isCurse, Literal(enchantment['curse'])))\n",
    "    g.add((enchantment_uri, mc_enchantment.hasCategory, Literal(enchantment['category'])))\n",
    "    g.add((enchantment_uri, mc_enchantment.hasWeight, Literal(enchantment['weight'])))\n",
    "    g.add((enchantment_uri, mc_enchantment.isTradeable, Literal(enchantment['tradeable'])))\n",
    "    g.add((enchantment_uri, mc_enchantment.isDiscoverable, Literal(enchantment['discoverable'])))\n",
    "\n",
    "# Adding enchantment exclusions\n",
    "for enchantment in data['enchantments']:\n",
    "    for exclude in enchantment['exclude']:\n",
    "        g.add((mc_enchantment[enchantment['name']], mc_enchantment.hasExclude, mc_enchantment[exclude]))\n",
    "\n",
    "# Adding foods\n",
    "for food in data['foods']:\n",
    "    food_uri = mc_food[food['name']]\n",
    "    g.add((food_uri, RDF.type, mc.Food))\n",
    "    g.add((food_uri, mc.hasId, Literal(food['id'])))\n",
    "    g.add((food_uri, mc.hasName, Literal(food['name'])))\n",
    "    g.add((food_uri, mc.hasDisplayName, Literal(food['displayName'])))\n",
    "    g.add((food_uri, mc_food.hasFoodPoints, Literal(food['foodPoints'])))\n",
    "    g.add((food_uri, mc_food.hasSaturation, Literal(food['saturation'])))\n",
    "    g.add((food_uri, mc_food.hasEffectiveQuality, Literal(food['effectiveQuality'])))\n",
    "    g.add((food_uri, mc_food.hasSaturationRatio, Literal(food['saturationRatio'])))\n",
    "\n",
    "# Adding effects\n",
    "for effect in data['effects']:\n",
    "    effect_uri = mc_effect[effect['name']]\n",
    "    g.add((effect_uri, RDF.type, mc.Effect))\n",
    "    g.add((effect_uri, mc.hasId, Literal(effect['id'])))\n",
    "    g.add((effect_uri, mc.hasName, Literal(effect['name'])))\n",
    "    g.add((effect_uri, mc.hasDisplayName, Literal(effect['displayName'])))\n",
    "    g.add((effect_uri, mc_effect.isGood, Literal(effect['type'] == 'good')))\n",
    "\n",
    "# Adding instruments\n",
    "for instrument in data['instruments']:\n",
    "    instrument_uri = mc[instrument['name']]\n",
    "    g.add((instrument_uri, RDF.type, mc.Instrument))\n",
    "    g.add((instrument_uri, mc.hasId, Literal(instrument['id'])))\n",
    "    g.add((instrument_uri, mc.hasName, Literal(instrument['name'])))\n",
    "\n",
    "# Adding particles\n",
    "for particle in data['particles']:\n",
    "    particle_uri = mc_particle[particle['name']]\n",
    "    g.add((particle_uri, RDF.type, mc.Particle))\n",
    "    g.add((particle_uri, mc.hasId, Literal(particle['id'])))\n",
    "    g.add((particle_uri, mc.hasName, Literal(particle['name'])))"
   ]
  },
  {
   "cell_type": "code",
   "execution_count": 125,
   "metadata": {},
   "outputs": [
    {
     "data": {
      "text/plain": [
       "<Graph identifier=N585e233752c346278ed9c8d59960a113 (<class 'rdflib.graph.Graph'>)>"
      ]
     },
     "execution_count": 125,
     "metadata": {},
     "output_type": "execute_result"
    }
   ],
   "source": [
    "# serialize the graph\n",
    "g.serialize(destination='minecraft.ttl', format='turtle')"
   ]
  }
 ],
 "metadata": {
  "kernelspec": {
   "display_name": "base",
   "language": "python",
   "name": "python3"
  },
  "language_info": {
   "codemirror_mode": {
    "name": "ipython",
    "version": 3
   },
   "file_extension": ".py",
   "mimetype": "text/x-python",
   "name": "python",
   "nbconvert_exporter": "python",
   "pygments_lexer": "ipython3",
   "version": "3.11.5"
  }
 },
 "nbformat": 4,
 "nbformat_minor": 2
}

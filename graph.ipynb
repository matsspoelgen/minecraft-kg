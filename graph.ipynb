{
 "cells": [
  {
   "cell_type": "markdown",
   "metadata": {},
   "source": [
    "# Minecraft Data Knowledge Graph"
   ]
  },
  {
   "cell_type": "code",
   "execution_count": 145,
   "metadata": {},
   "outputs": [],
   "source": [
    "import json\n",
    "from rdflib import Graph, Literal, BNode, Namespace, RDF, URIRef\n",
    "from rdflib.namespace import OWL, RDFS, XSD\n",
    "from rdflib.namespace import Namespace, NamespaceManager"
   ]
  },
  {
   "cell_type": "markdown",
   "metadata": {},
   "source": [
    "## Create Ontology"
   ]
  },
  {
   "cell_type": "code",
   "execution_count": 146,
   "metadata": {},
   "outputs": [],
   "source": [
    "# create a graph\n",
    "g = Graph()\n",
    "\n",
    "# create namespaces\n",
    "mc = Namespace(\"http://example.org/minecraft/\")\n",
    "mc_block = Namespace(\"http://example.org/minecraft/block/\")\n",
    "mc_block_drop = Namespace(\"http://example.org/minecraft/block_drop/\")\n",
    "mc_item = Namespace(\"http://example.org/minecraft/item/\")\n",
    "mc_entity = Namespace(\"http://example.org/minecraft/entity/\")\n",
    "mc_entity_loot = Namespace(\"http://example.org/minecraft/entity_loot/\")\n",
    "mc_biome = Namespace(\"http://example.org/minecraft/biome/\")\n",
    "mc_particle = Namespace(\"http://example.org/minecraft/particle/\")\n",
    "mc_enchantment = Namespace(\"http://example.org/minecraft/enchantment/\")\n",
    "mc_food = Namespace(\"http://example.org/minecraft/food/\")\n",
    "mc_effect = Namespace(\"http://example.org/minecraft/effect/\")\n",
    "mc_food_effect = Namespace(\"http://example.org/minecraft/food_effect/\")\n",
    "mc_recipe = Namespace(\"http://example.org/minecraft/recipe/\")\n",
    "\n",
    "# create a namespace manager\n",
    "nm = NamespaceManager(g)\n",
    "nm.bind('mc', mc)\n",
    "nm.bind('mc_block', mc_block)\n",
    "nm.bind('mc_block_drop', mc_block_drop)\n",
    "nm.bind('mc_item', mc_item)\n",
    "nm.bind('mc_entity', mc_entity)\n",
    "nm.bind('mc_entity_loot', mc_entity_loot)\n",
    "nm.bind('mc_biome', mc_biome)\n",
    "nm.bind('mc_particle', mc_particle)\n",
    "nm.bind('mc_enchantment', mc_enchantment)\n",
    "nm.bind('mc_food', mc_food)\n",
    "nm.bind('mc_effect', mc_effect)\n",
    "nm.bind('mc_recipe', mc_recipe)\n",
    "\n",
    "# add namespaces to the graph\n",
    "g.namespace_manager = nm"
   ]
  },
  {
   "cell_type": "code",
   "execution_count": 147,
   "metadata": {},
   "outputs": [
    {
     "data": {
      "text/plain": [
       "<Graph identifier=N51260d6e2bc24b0f96de8f7dc7fce41f (<class 'rdflib.graph.Graph'>)>"
      ]
     },
     "execution_count": 147,
     "metadata": {},
     "output_type": "execute_result"
    }
   ],
   "source": [
    "# create classes\n",
    "g.add((mc.Biome, RDF.type, OWL.Class))\n",
    "g.add((mc.Block, RDF.type, OWL.Class))\n",
    "g.add((mc.Effect, RDF.type, OWL.Class))\n",
    "g.add((mc.FoodEffect, RDF.type, OWL.Class))\n",
    "g.add((mc.Enchantment, RDF.type, OWL.Class))\n",
    "g.add((mc.Entity, RDF.type, OWL.Class))\n",
    "g.add((mc.Food, RDF.type, OWL.Class))\n",
    "g.add((mc.Item, RDF.type, OWL.Class))\n",
    "g.add((mc.Material, RDF.type, OWL.Class))\n",
    "g.add((mc.Particle, RDF.type, OWL.Class))\n",
    "g.add((mc.Recipe, RDF.type, OWL.Class))\n",
    "g.add((mc.Tint, RDF.type, OWL.Class))\n",
    "g.add((mc.BlockDrop, RDF.type, OWL.Class))\n",
    "g.add((mc.EntityDrop, RDF.type, OWL.Class))\n",
    "g.add((mc.Obtainment, RDF.type, OWL.Class))\n",
    "\n",
    "# link subclasses\n",
    "g.add((mc.Food, RDFS.subClassOf, mc.Item))\n",
    "g.add((mc.BlockDrop, RDFS.subClassOf, mc.Obtainment))\n",
    "g.add((mc.EntityDrop, RDFS.subClassOf, mc.Obtainment))\n",
    "g.add((mc.Recipe, RDFS.subClassOf, mc.Obtainment))"
   ]
  },
  {
   "cell_type": "markdown",
   "metadata": {},
   "source": [
    "## Create properties"
   ]
  },
  {
   "cell_type": "markdown",
   "metadata": {},
   "source": [
    "### General"
   ]
  },
  {
   "cell_type": "code",
   "execution_count": 148,
   "metadata": {},
   "outputs": [
    {
     "data": {
      "text/plain": [
       "<Graph identifier=N51260d6e2bc24b0f96de8f7dc7fce41f (<class 'rdflib.graph.Graph'>)>"
      ]
     },
     "execution_count": 148,
     "metadata": {},
     "output_type": "execute_result"
    }
   ],
   "source": [
    "# Id\n",
    "g.add((mc.hasId, RDF.type, OWL.DatatypeProperty))\n",
    "g.add((mc.hasId, RDFS.domain, RDFS.Resource))\n",
    "g.add((mc.hasId, RDFS.range, XSD.integer))\n",
    "\n",
    "# Minecraft Id\n",
    "g.add((mc.hasMinecraftId, RDF.type, OWL.DatatypeProperty))\n",
    "g.add((mc.hasMinecraftId, RDFS.domain, RDFS.Resource))\n",
    "g.add((mc.hasMinecraftId, RDFS.range, XSD.string))\n",
    "\n",
    "# Name\n",
    "g.add((mc.hasName, RDF.type, OWL.DatatypeProperty))\n",
    "g.add((mc.hasName, RDFS.domain, RDFS.Resource))\n",
    "g.add((mc.hasName, RDFS.range, XSD.string))\n",
    "\n",
    "# Display Name\n",
    "g.add((mc.hasDisplayName, RDF.type, OWL.DatatypeProperty))\n",
    "g.add((mc.hasDisplayName, RDFS.domain, RDFS.Resource))\n",
    "g.add((mc.hasDisplayName, RDFS.range, XSD.string))"
   ]
  },
  {
   "cell_type": "markdown",
   "metadata": {},
   "source": [
    "### Blocks"
   ]
  },
  {
   "cell_type": "code",
   "execution_count": 149,
   "metadata": {},
   "outputs": [
    {
     "data": {
      "text/plain": [
       "<Graph identifier=N51260d6e2bc24b0f96de8f7dc7fce41f (<class 'rdflib.graph.Graph'>)>"
      ]
     },
     "execution_count": 149,
     "metadata": {},
     "output_type": "execute_result"
    }
   ],
   "source": [
    "# Display Name\n",
    "g.add((mc_block.hasDisplayName, RDF.type, OWL.DatatypeProperty))\n",
    "g.add((mc_block.hasDisplayName, RDFS.domain, mc.Block))\n",
    "g.add((mc_block.hasDisplayName, RDFS.range, XSD.string))\n",
    "\n",
    "# Hardness\n",
    "g.add((mc_block.hasHardness, RDF.type, OWL.DatatypeProperty))\n",
    "g.add((mc_block.hasHardness, RDFS.domain, mc.Block))\n",
    "g.add((mc_block.hasHardness, RDFS.range, XSD.float))\n",
    "\n",
    "# Resistance\n",
    "g.add((mc_block.hasResistance, RDF.type, OWL.DatatypeProperty))\n",
    "g.add((mc_block.hasResistance, RDFS.domain, mc.Block))\n",
    "g.add((mc_block.hasResistance, RDFS.range, XSD.float))\n",
    "\n",
    "# Diggable\n",
    "g.add((mc_block.isDiggable, RDF.type, OWL.DatatypeProperty))\n",
    "g.add((mc_block.isDiggable, RDFS.domain, mc.Block))\n",
    "g.add((mc_block.isDiggable, RDFS.range, XSD.boolean))\n",
    "\n",
    "# Material\n",
    "g.add((mc_block.hasMaterial, RDF.type, OWL.DatatypeProperty))\n",
    "g.add((mc_block.hasMaterial, RDFS.domain, mc.Block))\n",
    "g.add((mc_block.hasMaterial, RDFS.range, XSD.string))\n",
    "\n",
    "# Transparent\n",
    "g.add((mc_block.isTransparent, RDF.type, OWL.DatatypeProperty))\n",
    "g.add((mc_block.isTransparent, RDFS.domain, mc.Block))\n",
    "g.add((mc_block.isTransparent, RDFS.range, XSD.boolean))\n",
    "\n",
    "# Emit Light\n",
    "g.add((mc_block.emitLight, RDF.type, OWL.DatatypeProperty))\n",
    "g.add((mc_block.emitLight, RDFS.domain, mc.Block))\n",
    "g.add((mc_block.emitLight, RDFS.range, XSD.integer))\n",
    "\n",
    "# Filter Light\n",
    "g.add((mc_block.filterLight, RDF.type, OWL.DatatypeProperty))\n",
    "g.add((mc_block.filterLight, RDFS.domain, mc.Block))\n",
    "g.add((mc_block.filterLight, RDFS.range, XSD.integer))\n",
    "\n",
    "# Drop\n",
    "g.add((mc_block.hasDrop, RDF.type, OWL.DatatypeProperty))\n",
    "g.add((mc_block.hasDrop, RDFS.domain, mc.Block))\n",
    "g.add((mc_block.hasDrop, RDFS.range, mc.BlockDrop))\n",
    "\n",
    "# Bounding Box\n",
    "g.add((mc_block.hasBoundingBox, RDF.type, OWL.DatatypeProperty))\n",
    "g.add((mc_block.hasBoundingBox, RDFS.domain, mc.Block))\n",
    "g.add((mc_block.hasBoundingBox, RDFS.range, XSD.string))"
   ]
  },
  {
   "cell_type": "markdown",
   "metadata": {},
   "source": [
    "### Block Loot"
   ]
  },
  {
   "cell_type": "code",
   "execution_count": 150,
   "metadata": {},
   "outputs": [
    {
     "data": {
      "text/plain": [
       "<Graph identifier=N51260d6e2bc24b0f96de8f7dc7fce41f (<class 'rdflib.graph.Graph'>)>"
      ]
     },
     "execution_count": 150,
     "metadata": {},
     "output_type": "execute_result"
    }
   ],
   "source": [
    "# Item\n",
    "g.add((mc_block_drop.hasItem, RDF.type, OWL.DatatypeProperty))\n",
    "g.add((mc_block_drop.hasItem, RDFS.domain, mc.BlockDrop))\n",
    "g.add((mc_block_drop.hasItem, RDFS.range, mc.Item))\n",
    "\n",
    "# Drop Chance\n",
    "g.add((mc_block_drop.hasDropChance, RDF.type, OWL.DatatypeProperty))\n",
    "g.add((mc_block_drop.hasDropChance, RDFS.domain, mc.BlockDrop))\n",
    "g.add((mc_block_drop.hasDropChance, RDFS.range, XSD.float))\n",
    "\n",
    "# Min Count\n",
    "g.add((mc_block_drop.hasMinCount, RDF.type, OWL.DatatypeProperty))\n",
    "g.add((mc_block_drop.hasMinCount, RDFS.domain, mc.BlockDrop))\n",
    "g.add((mc_block_drop.hasMinCount, RDFS.range, XSD.integer))\n",
    "\n",
    "# Max Count\n",
    "g.add((mc_block_drop.hasMaxCount, RDF.type, OWL.DatatypeProperty))\n",
    "g.add((mc_block_drop.hasMaxCount, RDFS.domain, mc.BlockDrop))\n",
    "g.add((mc_block_drop.hasMaxCount, RDFS.range, XSD.integer))\n",
    " \n",
    "# Silk Touch Effect (required / forbidden / optional)\n",
    "g.add((mc_block_drop.hasSilkTouchRule, RDF.type, OWL.DatatypeProperty))\n",
    "g.add((mc_block_drop.hasSilkTouchRule, RDFS.domain, mc.BlockDrop))\n",
    "g.add((mc_block_drop.hasSilkTouchRule, RDFS.range, XSD.string))"
   ]
  },
  {
   "cell_type": "markdown",
   "metadata": {},
   "source": [
    "### Items"
   ]
  },
  {
   "cell_type": "code",
   "execution_count": 151,
   "metadata": {},
   "outputs": [
    {
     "data": {
      "text/plain": [
       "<Graph identifier=N51260d6e2bc24b0f96de8f7dc7fce41f (<class 'rdflib.graph.Graph'>)>"
      ]
     },
     "execution_count": 151,
     "metadata": {},
     "output_type": "execute_result"
    }
   ],
   "source": [
    "# Stack Size\n",
    "g.add((mc_item.hasStackSize, RDF.type, OWL.DatatypeProperty))\n",
    "g.add((mc_item.hasStackSize, RDFS.domain, mc.Item))\n",
    "g.add((mc_item.hasStackSize, RDFS.range, XSD.integer))\n",
    "\n",
    "# Recipe\n",
    "g.add((mc_item.hasRecipe, RDF.type, OWL.DatatypeProperty))\n",
    "g.add((mc_item.hasRecipe, RDFS.domain, mc.Item))\n",
    "g.add((mc_item.hasRecipe, RDFS.range, mc.Recipe))\n",
    "\n",
    "# Rarity\n",
    "g.add((mc_item.hasRarity, RDF.type, OWL.DatatypeProperty))\n",
    "g.add((mc_item.hasRarity, RDFS.domain, mc.Item))\n",
    "g.add((mc_item.hasRarity, RDFS.range, XSD.string))\n",
    "\n",
    "# Fire Resistant\n",
    "g.add((mc_item.isFireResistant, RDF.type, OWL.DatatypeProperty))\n",
    "g.add((mc_item.isFireResistant, RDFS.domain, mc.Item))\n",
    "g.add((mc_item.isFireResistant, RDFS.range, XSD.boolean))\n",
    "\n",
    "# Block\n",
    "g.add((mc_item.hasBlock, RDF.type, OWL.DatatypeProperty))\n",
    "g.add((mc_item.hasBlock, RDFS.domain, mc.Item))\n",
    "g.add((mc_item.hasBlock, RDFS.range, mc.Block))\n",
    "\n",
    "# TODO stuff missing here"
   ]
  },
  {
   "cell_type": "markdown",
   "metadata": {},
   "source": [
    "### Recipes"
   ]
  },
  {
   "cell_type": "code",
   "execution_count": 152,
   "metadata": {},
   "outputs": [
    {
     "data": {
      "text/plain": [
       "<Graph identifier=N51260d6e2bc24b0f96de8f7dc7fce41f (<class 'rdflib.graph.Graph'>)>"
      ]
     },
     "execution_count": 152,
     "metadata": {},
     "output_type": "execute_result"
    }
   ],
   "source": [
    "# Ingredient\n",
    "g.add((mc_recipe.hasIngredient, RDF.type, OWL.DatatypeProperty))\n",
    "g.add((mc_recipe.hasIngredient, RDFS.domain, mc.Recipe))\n",
    "g.add((mc_recipe.hasIngredient, RDFS.range, mc.Item))\n",
    "\n",
    "# Type\n",
    "g.add((mc_recipe.hasType, RDF.type, OWL.DatatypeProperty))\n",
    "g.add((mc_recipe.hasType, RDFS.domain, mc.Recipe))\n",
    "g.add((mc_recipe.hasType, RDFS.range, XSD.string))\n",
    "\n",
    "# Item\n",
    "g.add((mc_recipe.makesItem, RDF.type, OWL.DatatypeProperty))\n",
    "g.add((mc_recipe.makesItem, RDFS.domain, mc.Recipe))\n",
    "g.add((mc_recipe.makesItem, RDFS.range, mc.Item))\n",
    "\n",
    "# Count\n",
    "g.add((mc_recipe.hasResultCount, RDF.type, OWL.DatatypeProperty))\n",
    "g.add((mc_recipe.hasResultCount, RDFS.domain, mc.Recipe))\n",
    "g.add((mc_recipe.hasResultCount, RDFS.range, XSD.integer))"
   ]
  },
  {
   "cell_type": "markdown",
   "metadata": {},
   "source": [
    "### Entities\n"
   ]
  },
  {
   "cell_type": "code",
   "execution_count": 153,
   "metadata": {},
   "outputs": [
    {
     "data": {
      "text/plain": [
       "<Graph identifier=N51260d6e2bc24b0f96de8f7dc7fce41f (<class 'rdflib.graph.Graph'>)>"
      ]
     },
     "execution_count": 153,
     "metadata": {},
     "output_type": "execute_result"
    }
   ],
   "source": [
    "# Internal Id\n",
    "g.add((mc_entity.hasInternalId, RDF.type, OWL.DatatypeProperty))\n",
    "g.add((mc_entity.hasInternalId, RDFS.domain, mc.Entity))\n",
    "g.add((mc_entity.hasInternalId, RDFS.range, XSD.integer))\n",
    "\n",
    "# Width\n",
    "g.add((mc_entity.hasWidth, RDF.type, OWL.DatatypeProperty))\n",
    "g.add((mc_entity.hasWidth, RDFS.domain, mc.Entity))\n",
    "g.add((mc_entity.hasWidth, RDFS.range, XSD.float))\n",
    "\n",
    "# Height\n",
    "g.add((mc_entity.hasHeight, RDF.type, OWL.DatatypeProperty))\n",
    "g.add((mc_entity.hasHeight, RDFS.domain, mc.Entity))\n",
    "g.add((mc_entity.hasHeight, RDFS.range, XSD.float))\n",
    "\n",
    "# Type\n",
    "g.add((mc_entity.hasType, RDF.type, OWL.DatatypeProperty))\n",
    "g.add((mc_entity.hasType, RDFS.domain, mc.Entity))\n",
    "g.add((mc_entity.hasType, RDFS.range, XSD.string))\n",
    "\n",
    "# Category\n",
    "g.add((mc_entity.hasCategory, RDF.type, OWL.DatatypeProperty))\n",
    "g.add((mc_entity.hasCategory, RDFS.domain, mc.Entity))\n",
    "g.add((mc_entity.hasCategory, RDFS.range, XSD.string))\n",
    "\n",
    "# Metadata Keys\n",
    "g.add((mc_entity.hasMetadataKeys, RDF.type, OWL.DatatypeProperty))\n",
    "g.add((mc_entity.hasMetadataKeys, RDFS.domain, mc.Entity))\n",
    "g.add((mc_entity.hasMetadataKeys, RDFS.range, RDF.List))"
   ]
  },
  {
   "cell_type": "markdown",
   "metadata": {},
   "source": [
    "### Entity Drop"
   ]
  },
  {
   "cell_type": "code",
   "execution_count": 154,
   "metadata": {},
   "outputs": [
    {
     "data": {
      "text/plain": [
       "<Graph identifier=N51260d6e2bc24b0f96de8f7dc7fce41f (<class 'rdflib.graph.Graph'>)>"
      ]
     },
     "execution_count": 154,
     "metadata": {},
     "output_type": "execute_result"
    }
   ],
   "source": [
    "# Item\n",
    "g.add((mc_entity_loot.hasItem, RDF.type, OWL.ObjectProperty))\n",
    "g.add((mc_entity_loot.hasItem, RDFS.domain, mc.EntityDrop))\n",
    "g.add((mc_entity_loot.hasItem, RDFS.range, mc.Item))\n",
    "\n",
    "# Drop Chance\n",
    "g.add((mc_entity_loot.hasDropChance, RDF.type, OWL.DatatypeProperty))\n",
    "g.add((mc_entity_loot.hasDropChance, RDFS.domain, mc.EntityDrop))\n",
    "g.add((mc_entity_loot.hasDropChance, RDFS.range, XSD.float))\n",
    "\n",
    "# Min Count\n",
    "g.add((mc_entity_loot.hasMinCount, RDF.type, OWL.DatatypeProperty))\n",
    "g.add((mc_entity_loot.hasMinCount, RDFS.domain, mc.EntityDrop))\n",
    "g.add((mc_entity_loot.hasMinCount, RDFS.range, XSD.integer))\n",
    "\n",
    "# Max Count\n",
    "g.add((mc_entity_loot.hasMaxCount, RDF.type, OWL.DatatypeProperty))\n",
    "g.add((mc_entity_loot.hasMaxCount, RDFS.domain, mc.EntityDrop))\n",
    "g.add((mc_entity_loot.hasMaxCount, RDFS.range, XSD.integer))\n",
    "\n",
    "# Requires Player Kill\n",
    "g.add((mc_entity_loot.requiresPlayerKill, RDF.type, OWL.DatatypeProperty))\n",
    "g.add((mc_entity_loot.requiresPlayerKill, RDFS.domain, mc.EntityDrop))\n",
    "g.add((mc_entity_loot.requiresPlayerKill, RDFS.range, XSD.boolean))"
   ]
  },
  {
   "cell_type": "markdown",
   "metadata": {},
   "source": [
    "### Biomes"
   ]
  },
  {
   "cell_type": "code",
   "execution_count": 155,
   "metadata": {},
   "outputs": [
    {
     "data": {
      "text/plain": [
       "<Graph identifier=N51260d6e2bc24b0f96de8f7dc7fce41f (<class 'rdflib.graph.Graph'>)>"
      ]
     },
     "execution_count": 155,
     "metadata": {},
     "output_type": "execute_result"
    }
   ],
   "source": [
    "# Category\n",
    "g.add((mc_biome.hasCategory, RDF.type, OWL.DatatypeProperty))\n",
    "g.add((mc_biome.hasCategory, RDFS.domain, mc.Biome))\n",
    "g.add((mc_biome.hasCategory, RDFS.range, XSD.string))\n",
    "\n",
    "# Temperature\n",
    "g.add((mc_biome.hasTemperature, RDF.type, OWL.DatatypeProperty))\n",
    "g.add((mc_biome.hasTemperature, RDFS.domain, mc.Biome))\n",
    "g.add((mc_biome.hasTemperature, RDFS.range, XSD.float))\n",
    "\n",
    "# Precipitation\n",
    "g.add((mc_biome.hasPrecipitation, RDF.type, OWL.DatatypeProperty))\n",
    "g.add((mc_biome.hasPrecipitation, RDFS.domain, mc.Biome))\n",
    "g.add((mc_biome.hasPrecipitation, RDFS.range, XSD.boolean))\n",
    "\n",
    "# Display Name\n",
    "g.add((mc_biome.hasDisplayName, RDF.type, OWL.DatatypeProperty))\n",
    "g.add((mc_biome.hasDisplayName, RDFS.domain, mc.Biome))\n",
    "g.add((mc_biome.hasDisplayName, RDFS.range, XSD.string))\n",
    "\n",
    "# Color\n",
    "g.add((mc_biome.hasColor, RDF.type, OWL.DatatypeProperty))\n",
    "g.add((mc_biome.hasColor, RDFS.domain, mc.Biome))\n",
    "g.add((mc_biome.hasColor, RDFS.range, XSD.integer))"
   ]
  },
  {
   "cell_type": "markdown",
   "metadata": {},
   "source": [
    "### Enchantments"
   ]
  },
  {
   "cell_type": "code",
   "execution_count": 156,
   "metadata": {},
   "outputs": [
    {
     "data": {
      "text/plain": [
       "<Graph identifier=N51260d6e2bc24b0f96de8f7dc7fce41f (<class 'rdflib.graph.Graph'>)>"
      ]
     },
     "execution_count": 156,
     "metadata": {},
     "output_type": "execute_result"
    }
   ],
   "source": [
    "# Min Level\n",
    "g.add((mc_enchantment.hasMinLevel, RDF.type, OWL.DatatypeProperty))\n",
    "g.add((mc_enchantment.hasMinLevel, RDFS.domain, mc.Enchantment))\n",
    "g.add((mc_enchantment.hasMinLevel, RDFS.range, XSD.integer))\n",
    "\n",
    "# Max Level\n",
    "g.add((mc_enchantment.hasMaxLevel, RDF.type, OWL.DatatypeProperty))\n",
    "g.add((mc_enchantment.hasMaxLevel, RDFS.domain, mc.Enchantment))\n",
    "g.add((mc_enchantment.hasMaxLevel, RDFS.range, XSD.integer))\n",
    "\n",
    "# Rarity\n",
    "g.add((mc_enchantment.hasRarity, RDF.type, OWL.DatatypeProperty))\n",
    "g.add((mc_enchantment.hasRarity, RDFS.domain, mc.Enchantment))\n",
    "g.add((mc_enchantment.hasRarity, RDFS.range, XSD.string))\n",
    "\n",
    "# Category\n",
    "g.add((mc_enchantment.hasCategory, RDF.type, OWL.DatatypeProperty))\n",
    "g.add((mc_enchantment.hasCategory, RDFS.domain, mc.Enchantment))\n",
    "g.add((mc_enchantment.hasCategory, RDFS.range, XSD.string))\n",
    "\n",
    "# Weight\n",
    "g.add((mc_enchantment.hasWeight, RDF.type, OWL.DatatypeProperty))\n",
    "g.add((mc_enchantment.hasWeight, RDFS.domain, mc.Enchantment))\n",
    "g.add((mc_enchantment.hasWeight, RDFS.range, XSD.float))\n",
    "\n",
    "# Tradeable\n",
    "g.add((mc_enchantment.isTradeable, RDF.type, OWL.DatatypeProperty))\n",
    "g.add((mc_enchantment.isTradeable, RDFS.domain, mc.Enchantment))\n",
    "g.add((mc_enchantment.isTradeable, RDFS.range, XSD.boolean))\n",
    "\n",
    "# Discoverable\n",
    "g.add((mc_enchantment.isDiscoverable, RDF.type, OWL.DatatypeProperty))\n",
    "g.add((mc_enchantment.isDiscoverable, RDFS.domain, mc.Enchantment))\n",
    "g.add((mc_enchantment.isDiscoverable, RDFS.range, XSD.boolean))\n",
    "\n",
    "# Treasure Only\n",
    "g.add((mc_enchantment.isTreasureOnly, RDF.type, OWL.DatatypeProperty))\n",
    "g.add((mc_enchantment.isTreasureOnly, RDFS.domain, mc.Enchantment))\n",
    "g.add((mc_enchantment.isTreasureOnly, RDFS.range, XSD.boolean))\n",
    "\n",
    "# Curse\n",
    "g.add((mc_enchantment.isCurse, RDF.type, OWL.DatatypeProperty))\n",
    "g.add((mc_enchantment.isCurse, RDFS.domain, mc.Enchantment))\n",
    "g.add((mc_enchantment.isCurse, RDFS.range, XSD.boolean))"
   ]
  },
  {
   "cell_type": "markdown",
   "metadata": {},
   "source": [
    "### Foods"
   ]
  },
  {
   "cell_type": "code",
   "execution_count": 157,
   "metadata": {},
   "outputs": [
    {
     "data": {
      "text/plain": [
       "<Graph identifier=N51260d6e2bc24b0f96de8f7dc7fce41f (<class 'rdflib.graph.Graph'>)>"
      ]
     },
     "execution_count": 157,
     "metadata": {},
     "output_type": "execute_result"
    }
   ],
   "source": [
    "# Food Points\n",
    "g.add((mc_food.hasNutrition, RDF.type, OWL.DatatypeProperty))\n",
    "g.add((mc_food.hasNutrition, RDFS.domain, mc.Food))\n",
    "g.add((mc_food.hasNutrition, RDFS.range, XSD.float))\n",
    "\n",
    "# Saturation\n",
    "g.add((mc_food.hasSaturationModifier, RDF.type, OWL.DatatypeProperty))\n",
    "g.add((mc_food.hasSaturationModifier, RDFS.domain, mc.Food))\n",
    "g.add((mc_food.hasSaturationModifier, RDFS.range, XSD.float))\n",
    "\n",
    "# Food Effect\n",
    "g.add((mc_food.givesEffect, RDF.type, OWL.DatatypeProperty))\n",
    "g.add((mc_food.givesEffect, RDFS.domain, mc.Food))\n",
    "g.add((mc_food.givesEffect, RDFS.range, mc.FoodEffect))"
   ]
  },
  {
   "cell_type": "markdown",
   "metadata": {},
   "source": [
    "### Effects"
   ]
  },
  {
   "cell_type": "code",
   "execution_count": 158,
   "metadata": {},
   "outputs": [
    {
     "data": {
      "text/plain": [
       "<Graph identifier=N51260d6e2bc24b0f96de8f7dc7fce41f (<class 'rdflib.graph.Graph'>)>"
      ]
     },
     "execution_count": 158,
     "metadata": {},
     "output_type": "execute_result"
    }
   ],
   "source": [
    "# Good\n",
    "g.add((mc_food.isGood, RDF.type, OWL.DatatypeProperty))\n",
    "g.add((mc_food.isGood, RDFS.domain, mc.Food))\n",
    "g.add((mc_food.isGood, RDFS.range, XSD.boolean))\n",
    "\n",
    "# Instantaneous\n",
    "g.add((mc_effect.isInstantaneous, RDF.type, OWL.DatatypeProperty))\n",
    "g.add((mc_effect.isInstantaneous, RDFS.domain, mc.Effect))\n",
    "g.add((mc_effect.isInstantaneous, RDFS.range, XSD.boolean))"
   ]
  },
  {
   "cell_type": "markdown",
   "metadata": {},
   "source": [
    "### Food Effect"
   ]
  },
  {
   "cell_type": "code",
   "execution_count": 159,
   "metadata": {},
   "outputs": [
    {
     "data": {
      "text/plain": [
       "<Graph identifier=N51260d6e2bc24b0f96de8f7dc7fce41f (<class 'rdflib.graph.Graph'>)>"
      ]
     },
     "execution_count": 159,
     "metadata": {},
     "output_type": "execute_result"
    }
   ],
   "source": [
    "# Effect\n",
    "g.add((mc_effect.hasEffect, RDF.type, OWL.DatatypeProperty))\n",
    "g.add((mc_effect.hasEffect, RDFS.domain, mc.FoodEffect))\n",
    "g.add((mc_effect.hasEffect, RDFS.range, mc.Effect))\n",
    "\n",
    "# Duration\n",
    "g.add((mc_effect.hasDuration, RDF.type, OWL.DatatypeProperty))\n",
    "g.add((mc_effect.hasDuration, RDFS.domain, mc.FoodEffect))\n",
    "g.add((mc_effect.hasDuration, RDFS.range, XSD.integer))\n",
    "\n",
    "# Amplifier\n",
    "g.add((mc_effect.hasAmplifier, RDF.type, OWL.DatatypeProperty))\n",
    "g.add((mc_effect.hasAmplifier, RDFS.domain, mc.FoodEffect))\n",
    "g.add((mc_effect.hasAmplifier, RDFS.range, XSD.integer))\n",
    "\n",
    "# Chance\n",
    "g.add((mc_effect.hasChance, RDF.type, OWL.DatatypeProperty))\n",
    "g.add((mc_effect.hasChance, RDFS.domain, mc.FoodEffect))\n",
    "g.add((mc_effect.hasChance, RDFS.range, XSD.float))"
   ]
  },
  {
   "cell_type": "markdown",
   "metadata": {},
   "source": [
    "## Create Triples"
   ]
  },
  {
   "cell_type": "markdown",
   "metadata": {},
   "source": [
    "### Load data"
   ]
  },
  {
   "cell_type": "code",
   "execution_count": 160,
   "metadata": {},
   "outputs": [],
   "source": [
    "with open('preparedData/blocks.json') as f:\n",
    "    blocks = json.load(f)\n",
    "\n",
    "with open('preparedData/items.json') as f:\n",
    "    items = json.load(f)\n",
    "\n",
    "with open('preparedData/enchantments.json') as f:\n",
    "    enchantments = json.load(f)\n",
    "\n",
    "with open('preparedData/recipes.json') as f:\n",
    "    recipes = json.load(f)\n",
    "\n",
    "with open('preparedData/entities.json') as f:\n",
    "    entities = json.load(f)\n",
    "\n",
    "with open('preparedData/biomes.json') as f:\n",
    "    biomes = json.load(f)\n",
    "\n",
    "with open('preparedData/effects.json') as f:\n",
    "    effects = json.load(f)"
   ]
  },
  {
   "cell_type": "markdown",
   "metadata": {},
   "source": [
    "### Blocks, Block Loot"
   ]
  },
  {
   "cell_type": "code",
   "execution_count": 161,
   "metadata": {},
   "outputs": [],
   "source": [
    "for block_name in blocks:\n",
    "    block = blocks[block_name]\n",
    "    block_uri = mc_block[block_name]\n",
    "    g.add((block_uri, RDF.type, mc.Block))\n",
    "    g.add((block_uri, mc.hasName, Literal(block['name'])))\n",
    "    g.add((block_uri, mc.hasId, Literal(block['block_id'])))\n",
    "    g.add((block_uri, mc.hasMinecraftId, Literal(block['minecraft_id'])))\n",
    "    g.add((block_uri, mc.hasDisplayName, Literal(block['display_name'])))\n",
    "    g.add((block_uri, mc_block.hasHardness, Literal(block['hardness'])))\n",
    "    g.add((block_uri, mc_block.hasResistance, Literal(block['explosion_resistance'])))\n",
    "    g.add((block_uri, mc_block.isDiggable, Literal(block['diggable'])))\n",
    "    g.add((block_uri, mc_block.isTransparent, Literal(block['transparent'])))\n",
    "    g.add((block_uri, mc_block.emitLight, Literal(block['emit_light'])))\n",
    "    g.add((block_uri, mc_block.filterLight, Literal(block['filter_light'])))\n",
    "\n",
    "    if 'corresponding_item' in block:\n",
    "        g.add((block_uri, mc_block.correspondingItem, mc_item[items[str(block['corresponding_item'])]['name']]))\n",
    "    \n",
    "    for index, drop in enumerate(block['drops']):\n",
    "        drop_uri = mc_block_drop[block_name] + f\"/{index}\"\n",
    "        g.add((drop_uri, RDF.type, mc.BlockDrop))\n",
    "        g.add((drop_uri, mc_block_drop.hasItem, mc_item[drop['item']]))\n",
    "        g.add((drop_uri, mc_block_drop.hasMinCount, Literal(drop['min'])))\n",
    "        g.add((drop_uri, mc_block_drop.hasMaxCount, Literal(drop['max'])))\n",
    "        g.add((drop_uri, mc_block_drop.hasDropChance, Literal(drop['chance'])))\n",
    "        g.add((drop_uri, mc_block_drop.hasSilkTouchRule, Literal(drop['silk_touch'])))\n",
    "        g.add((block_uri, mc_block.hasDrop, drop_uri))"
   ]
  },
  {
   "cell_type": "markdown",
   "metadata": {},
   "source": [
    "### Recipes"
   ]
  },
  {
   "cell_type": "code",
   "execution_count": 162,
   "metadata": {},
   "outputs": [],
   "source": [
    "for recipe_name in recipes:\n",
    "    recipe = recipes[recipe_name]\n",
    "    recipe_uri = mc_recipe[recipe_name]\n",
    "    g.add((recipe_uri, RDF.type, mc.Recipe))\n",
    "    g.add((recipe_uri, mc.hasName, Literal(recipe_name)))\n",
    "    g.add((recipe_uri, mc.hasMinecraftId, Literal(recipe['minecraft_id'])))\n",
    "    g.add((recipe_uri, mc_recipe.hasType, Literal(recipe['type'])))\n",
    "    g.add((recipe_uri, mc_recipe.makesItem, mc_item[recipe['item']]))\n",
    "    g.add((recipe_uri, mc_recipe.hasCount, Literal(recipe['count'])))\n",
    "    if 'ingredients' in recipe:\n",
    "        for ingredient in recipe['ingredients']:\n",
    "            g.add((recipe_uri, mc_recipe.hasIngredient, mc_item[ingredient]))"
   ]
  },
  {
   "cell_type": "markdown",
   "metadata": {},
   "source": [
    "### Items"
   ]
  },
  {
   "cell_type": "code",
   "execution_count": 163,
   "metadata": {},
   "outputs": [],
   "source": [
    "for item_name in items:\n",
    "    item = items[item_name]\n",
    "    item_uri = mc_item[item['name']]\n",
    "    g.add((item_uri, RDF.type, mc.Item))\n",
    "    g.add((item_uri, mc.hasName, Literal(item_name)))\n",
    "    g.add((item_uri, mc.hasId, Literal(item['id'])))\n",
    "    g.add((item_uri, mc.hasMinecraftId, Literal(item['minecraft_id'])))\n",
    "    g.add((item_uri, mc.hasDisplayName, Literal(item['display_name'])))\n",
    "    g.add((item_uri, mc_item.hasStackSize, Literal(item['stack_size'])))\n",
    "    g.add((item_uri, mc_item.hasRarity, Literal(item['rarity'])))\n",
    "    g.add((item_uri, mc_item.isFireResistant, Literal(item['fire_resistant'])))\n",
    "\n",
    "    if 'block_id' in item:\n",
    "        g.add((item_uri, RDF.type, mc.Block))\n",
    "        g.add((item_uri, mc_item.hasBlock, mc_block[item['block_id']]))\n",
    "\n",
    "    if 'foodProperties' in item:\n",
    "        food_properties = item['foodProperties']\n",
    "        g.add((item_uri, RDF.type, mc.Food))\n",
    "        g.add((item_uri, mc_food.hasNutrition, Literal(food_properties['nutrition'])))\n",
    "        g.add((item_uri, mc_food.hasSaturationModifier, Literal(food_properties['saturation_modifier'])))\n",
    "        for index, effect in enumerate(food_properties['effects']):\n",
    "            effect_uri = mc_food_effect[item_name] + f'/{index}'\n",
    "            g.add((effect_uri, RDF.type, mc.FoodEffect))\n",
    "            g.add((effect_uri, mc_effect.hasEffect, mc_effect[effect['effect']]))\n",
    "            g.add((effect_uri, mc_effect.hasDuration, Literal(effect['duration'])))\n",
    "            g.add((effect_uri, mc_effect.hasAmplifier, Literal(effect['amplifier'])))\n",
    "            g.add((effect_uri, mc_effect.hasChance, Literal(effect['chance'])))\n",
    "            g.add((item_uri, mc_food.givesEffect, effect_uri))"
   ]
  },
  {
   "cell_type": "markdown",
   "metadata": {},
   "source": [
    "### Entities, Entity Loot"
   ]
  },
  {
   "cell_type": "code",
   "execution_count": 164,
   "metadata": {},
   "outputs": [],
   "source": [
    "for entity_name in entities:\n",
    "    entity = entities[entity_name]\n",
    "    entity_uri = mc_entity[entity_name]\n",
    "    g.add((entity_uri, RDF.type, mc.Entity))\n",
    "    g.add((entity_uri, mc.hasName, Literal(entity_name)))\n",
    "    g.add((entity_uri, mc.hasMinecraftId, Literal(entity['minecraft_id'])))\n",
    "    g.add((entity_uri, mc.hasDisplayName, Literal(entity['display_name'])))\n",
    "    g.add((entity_uri, mc_entity.hasWidth, Literal(entity['width'])))\n",
    "    g.add((entity_uri, mc_entity.hasHeight, Literal(entity['height'])))\n",
    "    g.add((entity_uri, mc_entity.hasType, Literal(entity['type'])))\n",
    "    g.add((entity_uri, mc_entity.hasCategory, Literal(entity['category'])))\n",
    "    g.add((entity_uri, mc_entity.hasPacketType, Literal(entity['packet_type'])))\n",
    "    g.add((entity_uri, mc_entity.isFireImmune, Literal(entity['fire_immune'])))\n",
    "    \n",
    "    for index, item_id in enumerate(entity['drops']):\n",
    "        drop = entity['drops'][item_id]\n",
    "        drop_uri = mc_entity_loot[entity_name] + f'/{index}'\n",
    "        g.add((drop_uri, RDF.type, mc.EntityDrop))\n",
    "        g.add((drop_uri, mc_entity_loot.hasItem, mc_item[item_id]))\n",
    "        g.add((drop_uri, mc_entity_loot.hasMinCount, Literal(drop['min'])))\n",
    "        g.add((drop_uri, mc_entity_loot.hasMaxCount, Literal(drop['max'])))\n",
    "        g.add((drop_uri, mc_entity_loot.hasDropChance, Literal(drop['chance'])))\n",
    "        g.add((drop_uri, mc_entity_loot.requiresPlayerKill, Literal(drop['requires_player_kill'])))\n",
    "        g.add((entity_uri, mc_entity.hasDrop, drop_uri))"
   ]
  },
  {
   "cell_type": "markdown",
   "metadata": {},
   "source": [
    "### Enchantments"
   ]
  },
  {
   "cell_type": "code",
   "execution_count": 165,
   "metadata": {},
   "outputs": [],
   "source": [
    "for enchantment_name in enchantments:\n",
    "    enchantment = enchantments[enchantment_name]\n",
    "    enchantment_uri = mc_enchantment[enchantment_name]\n",
    "    g.add((enchantment_uri, RDF.type, mc.Enchantment))\n",
    "    g.add((enchantment_uri, mc.hasName, Literal(enchantment_name)))\n",
    "    g.add((enchantment_uri, mc.hasId, Literal(enchantment['id'])))\n",
    "    g.add((enchantment_uri, mc.hasMinecraftId, Literal(enchantment['minecraft_id'])))\n",
    "    g.add((enchantment_uri, mc.hasDisplayName, Literal(enchantment['display_name'])))\n",
    "    g.add((enchantment_uri, mc_enchantment.hasMinLevel, Literal(enchantment['min_level'])))\n",
    "    g.add((enchantment_uri, mc_enchantment.hasMaxLevel, Literal(enchantment['max_level'])))\n",
    "    g.add((enchantment_uri, mc_enchantment.hasRarity, Literal(enchantment['rarity'])))\n",
    "    g.add((enchantment_uri, mc_enchantment.hasCategory, Literal(enchantment['category'])))\n",
    "    g.add((enchantment_uri, mc_enchantment.hasWeight, Literal(enchantment['weight'])))\n",
    "    g.add((enchantment_uri, mc_enchantment.isTradeable, Literal(enchantment['tradeable'])))\n",
    "    g.add((enchantment_uri, mc_enchantment.isDiscoverable, Literal(enchantment['discoverable'])))\n",
    "    g.add((enchantment_uri, mc_enchantment.isTreasureOnly, Literal(enchantment['treasure_only'])))\n",
    "    g.add((enchantment_uri, mc_enchantment.isCurse, Literal(enchantment['curse'])))\n",
    "    for exclude in enchantment['excludes']:\n",
    "        g.add((enchantment_uri, mc_enchantment.hasExclude, mc_enchantment[exclude]))"
   ]
  },
  {
   "cell_type": "markdown",
   "metadata": {},
   "source": [
    "### Biomes"
   ]
  },
  {
   "cell_type": "code",
   "execution_count": 166,
   "metadata": {},
   "outputs": [],
   "source": [
    "for biome_name in biomes:\n",
    "    biome = biomes[biome_name]\n",
    "    biome_uri = mc_biome[biome_name]\n",
    "    g.add((biome_uri, RDF.type, mc.Biome))\n",
    "    g.add((biome_uri, mc.hasName, Literal(biome_name)))\n",
    "    g.add((biome_uri, mc.hasMinecraftId, Literal(biome['minecraft_id'])))\n",
    "    g.add((biome_uri, mc.hasDisplayName, Literal(biome['display_name'])))\n",
    "    g.add((biome_uri, mc_biome.hasCategory, Literal(biome['category'])))\n",
    "    g.add((biome_uri, mc_biome.hasTemperature, Literal(biome['temperature'])))\n",
    "    g.add((biome_uri, mc_biome.hasPrecipitation, Literal(biome['has_precipitation'])))\n",
    "    g.add((biome_uri, mc_biome.hasDimension, Literal(biome['dimension'])))\n",
    "    g.add((biome_uri, mc_biome.hasDownfall, Literal(biome['downfall'])))"
   ]
  },
  {
   "cell_type": "markdown",
   "metadata": {},
   "source": [
    "### Effects"
   ]
  },
  {
   "cell_type": "code",
   "execution_count": 167,
   "metadata": {},
   "outputs": [],
   "source": [
    "for effect_name in effects:\n",
    "    effect = effects[effect_name]\n",
    "    effect_uri = mc_effect[effect_name]\n",
    "    g.add((effect_uri, RDF.type, mc.Effect))\n",
    "    g.add((effect_uri, mc.hasName, Literal(effect_name)))\n",
    "    g.add((effect_uri, mc.hasMinecraftId, Literal(effect['minecraft_id'])))\n",
    "    g.add((effect_uri, mc.hasDisplayName, Literal(effect['display_name'])))\n",
    "    g.add((effect_uri, mc_effect.isInstantaneous, Literal(effect['instantaneous'])))\n",
    "    g.add((effect_uri, mc_effect.isGood, Literal(effect['isGood'])))"
   ]
  },
  {
   "cell_type": "markdown",
   "metadata": {},
   "source": [
    "## Serialize"
   ]
  },
  {
   "cell_type": "code",
   "execution_count": 168,
   "metadata": {},
   "outputs": [
    {
     "data": {
      "text/plain": [
       "<Graph identifier=N51260d6e2bc24b0f96de8f7dc7fce41f (<class 'rdflib.graph.Graph'>)>"
      ]
     },
     "execution_count": 168,
     "metadata": {},
     "output_type": "execute_result"
    }
   ],
   "source": [
    "g.serialize(destination='minecraft.ttl', format='turtle')"
   ]
  }
 ],
 "metadata": {
  "kernelspec": {
   "display_name": "base",
   "language": "python",
   "name": "python3"
  },
  "language_info": {
   "codemirror_mode": {
    "name": "ipython",
    "version": 3
   },
   "file_extension": ".py",
   "mimetype": "text/x-python",
   "name": "python",
   "nbconvert_exporter": "python",
   "pygments_lexer": "ipython3",
   "version": "3.11.5"
  }
 },
 "nbformat": 4,
 "nbformat_minor": 2
}
